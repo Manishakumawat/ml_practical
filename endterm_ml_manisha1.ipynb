{
  "nbformat": 4,
  "nbformat_minor": 0,
  "metadata": {
    "colab": {
      "name": "endterm_ml_manisha1.ipynb",
      "provenance": [],
      "collapsed_sections": []
    },
    "kernelspec": {
      "name": "python3",
      "display_name": "Python 3"
    }
  },
  "cells": [
    {
      "cell_type": "code",
      "metadata": {
        "id": "ZwOO9i_QZr78"
      },
      "source": [
        "# # Data Preprocessing\n",
        "# Importing the libraries\n",
        "import numpy as np\n",
        "import matplotlib.pyplot as plt\n",
        "import pandas as pd"
      ],
      "execution_count": 1,
      "outputs": []
    },
    {
      "cell_type": "code",
      "metadata": {
        "id": "A4Qo-Jl2aG_j",
        "colab": {
          "base_uri": "https://localhost:8080/"
        },
        "outputId": "8a407546-5d78-4046-b430-593a36d556bc"
      },
      "source": [
        "# Mounting Google Drive\n",
        "from google.colab import drive\n",
        "drive.mount('/content/drive')"
      ],
      "execution_count": 2,
      "outputs": [
        {
          "output_type": "stream",
          "text": [
            "Mounted at /content/drive\n"
          ],
          "name": "stdout"
        }
      ]
    },
    {
      "cell_type": "code",
      "metadata": {
        "id": "pIOXotLtVM3T",
        "colab": {
          "resources": {
            "http://localhost:8080/nbextensions/google.colab/files.js": {
              "data": "Ly8gQ29weXJpZ2h0IDIwMTcgR29vZ2xlIExMQwovLwovLyBMaWNlbnNlZCB1bmRlciB0aGUgQXBhY2hlIExpY2Vuc2UsIFZlcnNpb24gMi4wICh0aGUgIkxpY2Vuc2UiKTsKLy8geW91IG1heSBub3QgdXNlIHRoaXMgZmlsZSBleGNlcHQgaW4gY29tcGxpYW5jZSB3aXRoIHRoZSBMaWNlbnNlLgovLyBZb3UgbWF5IG9idGFpbiBhIGNvcHkgb2YgdGhlIExpY2Vuc2UgYXQKLy8KLy8gICAgICBodHRwOi8vd3d3LmFwYWNoZS5vcmcvbGljZW5zZXMvTElDRU5TRS0yLjAKLy8KLy8gVW5sZXNzIHJlcXVpcmVkIGJ5IGFwcGxpY2FibGUgbGF3IG9yIGFncmVlZCB0byBpbiB3cml0aW5nLCBzb2Z0d2FyZQovLyBkaXN0cmlidXRlZCB1bmRlciB0aGUgTGljZW5zZSBpcyBkaXN0cmlidXRlZCBvbiBhbiAiQVMgSVMiIEJBU0lTLAovLyBXSVRIT1VUIFdBUlJBTlRJRVMgT1IgQ09ORElUSU9OUyBPRiBBTlkgS0lORCwgZWl0aGVyIGV4cHJlc3Mgb3IgaW1wbGllZC4KLy8gU2VlIHRoZSBMaWNlbnNlIGZvciB0aGUgc3BlY2lmaWMgbGFuZ3VhZ2UgZ292ZXJuaW5nIHBlcm1pc3Npb25zIGFuZAovLyBsaW1pdGF0aW9ucyB1bmRlciB0aGUgTGljZW5zZS4KCi8qKgogKiBAZmlsZW92ZXJ2aWV3IEhlbHBlcnMgZm9yIGdvb2dsZS5jb2xhYiBQeXRob24gbW9kdWxlLgogKi8KKGZ1bmN0aW9uKHNjb3BlKSB7CmZ1bmN0aW9uIHNwYW4odGV4dCwgc3R5bGVBdHRyaWJ1dGVzID0ge30pIHsKICBjb25zdCBlbGVtZW50ID0gZG9jdW1lbnQuY3JlYXRlRWxlbWVudCgnc3BhbicpOwogIGVsZW1lbnQudGV4dENvbnRlbnQgPSB0ZXh0OwogIGZvciAoY29uc3Qga2V5IG9mIE9iamVjdC5rZXlzKHN0eWxlQXR0cmlidXRlcykpIHsKICAgIGVsZW1lbnQuc3R5bGVba2V5XSA9IHN0eWxlQXR0cmlidXRlc1trZXldOwogIH0KICByZXR1cm4gZWxlbWVudDsKfQoKLy8gTWF4IG51bWJlciBvZiBieXRlcyB3aGljaCB3aWxsIGJlIHVwbG9hZGVkIGF0IGEgdGltZS4KY29uc3QgTUFYX1BBWUxPQURfU0laRSA9IDEwMCAqIDEwMjQ7CgpmdW5jdGlvbiBfdXBsb2FkRmlsZXMoaW5wdXRJZCwgb3V0cHV0SWQpIHsKICBjb25zdCBzdGVwcyA9IHVwbG9hZEZpbGVzU3RlcChpbnB1dElkLCBvdXRwdXRJZCk7CiAgY29uc3Qgb3V0cHV0RWxlbWVudCA9IGRvY3VtZW50LmdldEVsZW1lbnRCeUlkKG91dHB1dElkKTsKICAvLyBDYWNoZSBzdGVwcyBvbiB0aGUgb3V0cHV0RWxlbWVudCB0byBtYWtlIGl0IGF2YWlsYWJsZSBmb3IgdGhlIG5leHQgY2FsbAogIC8vIHRvIHVwbG9hZEZpbGVzQ29udGludWUgZnJvbSBQeXRob24uCiAgb3V0cHV0RWxlbWVudC5zdGVwcyA9IHN0ZXBzOwoKICByZXR1cm4gX3VwbG9hZEZpbGVzQ29udGludWUob3V0cHV0SWQpOwp9CgovLyBUaGlzIGlzIHJvdWdobHkgYW4gYXN5bmMgZ2VuZXJhdG9yIChub3Qgc3VwcG9ydGVkIGluIHRoZSBicm93c2VyIHlldCksCi8vIHdoZXJlIHRoZXJlIGFyZSBtdWx0aXBsZSBhc3luY2hyb25vdXMgc3RlcHMgYW5kIHRoZSBQeXRob24gc2lkZSBpcyBnb2luZwovLyB0byBwb2xsIGZvciBjb21wbGV0aW9uIG9mIGVhY2ggc3RlcC4KLy8gVGhpcyB1c2VzIGEgUHJvbWlzZSB0byBibG9jayB0aGUgcHl0aG9uIHNpZGUgb24gY29tcGxldGlvbiBvZiBlYWNoIHN0ZXAsCi8vIHRoZW4gcGFzc2VzIHRoZSByZXN1bHQgb2YgdGhlIHByZXZpb3VzIHN0ZXAgYXMgdGhlIGlucHV0IHRvIHRoZSBuZXh0IHN0ZXAuCmZ1bmN0aW9uIF91cGxvYWRGaWxlc0NvbnRpbnVlKG91dHB1dElkKSB7CiAgY29uc3Qgb3V0cHV0RWxlbWVudCA9IGRvY3VtZW50LmdldEVsZW1lbnRCeUlkKG91dHB1dElkKTsKICBjb25zdCBzdGVwcyA9IG91dHB1dEVsZW1lbnQuc3RlcHM7CgogIGNvbnN0IG5leHQgPSBzdGVwcy5uZXh0KG91dHB1dEVsZW1lbnQubGFzdFByb21pc2VWYWx1ZSk7CiAgcmV0dXJuIFByb21pc2UucmVzb2x2ZShuZXh0LnZhbHVlLnByb21pc2UpLnRoZW4oKHZhbHVlKSA9PiB7CiAgICAvLyBDYWNoZSB0aGUgbGFzdCBwcm9taXNlIHZhbHVlIHRvIG1ha2UgaXQgYXZhaWxhYmxlIHRvIHRoZSBuZXh0CiAgICAvLyBzdGVwIG9mIHRoZSBnZW5lcmF0b3IuCiAgICBvdXRwdXRFbGVtZW50Lmxhc3RQcm9taXNlVmFsdWUgPSB2YWx1ZTsKICAgIHJldHVybiBuZXh0LnZhbHVlLnJlc3BvbnNlOwogIH0pOwp9CgovKioKICogR2VuZXJhdG9yIGZ1bmN0aW9uIHdoaWNoIGlzIGNhbGxlZCBiZXR3ZWVuIGVhY2ggYXN5bmMgc3RlcCBvZiB0aGUgdXBsb2FkCiAqIHByb2Nlc3MuCiAqIEBwYXJhbSB7c3RyaW5nfSBpbnB1dElkIEVsZW1lbnQgSUQgb2YgdGhlIGlucHV0IGZpbGUgcGlja2VyIGVsZW1lbnQuCiAqIEBwYXJhbSB7c3RyaW5nfSBvdXRwdXRJZCBFbGVtZW50IElEIG9mIHRoZSBvdXRwdXQgZGlzcGxheS4KICogQHJldHVybiB7IUl0ZXJhYmxlPCFPYmplY3Q+fSBJdGVyYWJsZSBvZiBuZXh0IHN0ZXBzLgogKi8KZnVuY3Rpb24qIHVwbG9hZEZpbGVzU3RlcChpbnB1dElkLCBvdXRwdXRJZCkgewogIGNvbnN0IGlucHV0RWxlbWVudCA9IGRvY3VtZW50LmdldEVsZW1lbnRCeUlkKGlucHV0SWQpOwogIGlucHV0RWxlbWVudC5kaXNhYmxlZCA9IGZhbHNlOwoKICBjb25zdCBvdXRwdXRFbGVtZW50ID0gZG9jdW1lbnQuZ2V0RWxlbWVudEJ5SWQob3V0cHV0SWQpOwogIG91dHB1dEVsZW1lbnQuaW5uZXJIVE1MID0gJyc7CgogIGNvbnN0IHBpY2tlZFByb21pc2UgPSBuZXcgUHJvbWlzZSgocmVzb2x2ZSkgPT4gewogICAgaW5wdXRFbGVtZW50LmFkZEV2ZW50TGlzdGVuZXIoJ2NoYW5nZScsIChlKSA9PiB7CiAgICAgIHJlc29sdmUoZS50YXJnZXQuZmlsZXMpOwogICAgfSk7CiAgfSk7CgogIGNvbnN0IGNhbmNlbCA9IGRvY3VtZW50LmNyZWF0ZUVsZW1lbnQoJ2J1dHRvbicpOwogIGlucHV0RWxlbWVudC5wYXJlbnRFbGVtZW50LmFwcGVuZENoaWxkKGNhbmNlbCk7CiAgY2FuY2VsLnRleHRDb250ZW50ID0gJ0NhbmNlbCB1cGxvYWQnOwogIGNvbnN0IGNhbmNlbFByb21pc2UgPSBuZXcgUHJvbWlzZSgocmVzb2x2ZSkgPT4gewogICAgY2FuY2VsLm9uY2xpY2sgPSAoKSA9PiB7CiAgICAgIHJlc29sdmUobnVsbCk7CiAgICB9OwogIH0pOwoKICAvLyBXYWl0IGZvciB0aGUgdXNlciB0byBwaWNrIHRoZSBmaWxlcy4KICBjb25zdCBmaWxlcyA9IHlpZWxkIHsKICAgIHByb21pc2U6IFByb21pc2UucmFjZShbcGlja2VkUHJvbWlzZSwgY2FuY2VsUHJvbWlzZV0pLAogICAgcmVzcG9uc2U6IHsKICAgICAgYWN0aW9uOiAnc3RhcnRpbmcnLAogICAgfQogIH07CgogIGNhbmNlbC5yZW1vdmUoKTsKCiAgLy8gRGlzYWJsZSB0aGUgaW5wdXQgZWxlbWVudCBzaW5jZSBmdXJ0aGVyIHBpY2tzIGFyZSBub3QgYWxsb3dlZC4KICBpbnB1dEVsZW1lbnQuZGlzYWJsZWQgPSB0cnVlOwoKICBpZiAoIWZpbGVzKSB7CiAgICByZXR1cm4gewogICAgICByZXNwb25zZTogewogICAgICAgIGFjdGlvbjogJ2NvbXBsZXRlJywKICAgICAgfQogICAgfTsKICB9CgogIGZvciAoY29uc3QgZmlsZSBvZiBmaWxlcykgewogICAgY29uc3QgbGkgPSBkb2N1bWVudC5jcmVhdGVFbGVtZW50KCdsaScpOwogICAgbGkuYXBwZW5kKHNwYW4oZmlsZS5uYW1lLCB7Zm9udFdlaWdodDogJ2JvbGQnfSkpOwogICAgbGkuYXBwZW5kKHNwYW4oCiAgICAgICAgYCgke2ZpbGUudHlwZSB8fCAnbi9hJ30pIC0gJHtmaWxlLnNpemV9IGJ5dGVzLCBgICsKICAgICAgICBgbGFzdCBtb2RpZmllZDogJHsKICAgICAgICAgICAgZmlsZS5sYXN0TW9kaWZpZWREYXRlID8gZmlsZS5sYXN0TW9kaWZpZWREYXRlLnRvTG9jYWxlRGF0ZVN0cmluZygpIDoKICAgICAgICAgICAgICAgICAgICAgICAgICAgICAgICAgICAgJ24vYSd9IC0gYCkpOwogICAgY29uc3QgcGVyY2VudCA9IHNwYW4oJzAlIGRvbmUnKTsKICAgIGxpLmFwcGVuZENoaWxkKHBlcmNlbnQpOwoKICAgIG91dHB1dEVsZW1lbnQuYXBwZW5kQ2hpbGQobGkpOwoKICAgIGNvbnN0IGZpbGVEYXRhUHJvbWlzZSA9IG5ldyBQcm9taXNlKChyZXNvbHZlKSA9PiB7CiAgICAgIGNvbnN0IHJlYWRlciA9IG5ldyBGaWxlUmVhZGVyKCk7CiAgICAgIHJlYWRlci5vbmxvYWQgPSAoZSkgPT4gewogICAgICAgIHJlc29sdmUoZS50YXJnZXQucmVzdWx0KTsKICAgICAgfTsKICAgICAgcmVhZGVyLnJlYWRBc0FycmF5QnVmZmVyKGZpbGUpOwogICAgfSk7CiAgICAvLyBXYWl0IGZvciB0aGUgZGF0YSB0byBiZSByZWFkeS4KICAgIGxldCBmaWxlRGF0YSA9IHlpZWxkIHsKICAgICAgcHJvbWlzZTogZmlsZURhdGFQcm9taXNlLAogICAgICByZXNwb25zZTogewogICAgICAgIGFjdGlvbjogJ2NvbnRpbnVlJywKICAgICAgfQogICAgfTsKCiAgICAvLyBVc2UgYSBjaHVua2VkIHNlbmRpbmcgdG8gYXZvaWQgbWVzc2FnZSBzaXplIGxpbWl0cy4gU2VlIGIvNjIxMTU2NjAuCiAgICBsZXQgcG9zaXRpb24gPSAwOwogICAgZG8gewogICAgICBjb25zdCBsZW5ndGggPSBNYXRoLm1pbihmaWxlRGF0YS5ieXRlTGVuZ3RoIC0gcG9zaXRpb24sIE1BWF9QQVlMT0FEX1NJWkUpOwogICAgICBjb25zdCBjaHVuayA9IG5ldyBVaW50OEFycmF5KGZpbGVEYXRhLCBwb3NpdGlvbiwgbGVuZ3RoKTsKICAgICAgcG9zaXRpb24gKz0gbGVuZ3RoOwoKICAgICAgY29uc3QgYmFzZTY0ID0gYnRvYShTdHJpbmcuZnJvbUNoYXJDb2RlLmFwcGx5KG51bGwsIGNodW5rKSk7CiAgICAgIHlpZWxkIHsKICAgICAgICByZXNwb25zZTogewogICAgICAgICAgYWN0aW9uOiAnYXBwZW5kJywKICAgICAgICAgIGZpbGU6IGZpbGUubmFtZSwKICAgICAgICAgIGRhdGE6IGJhc2U2NCwKICAgICAgICB9LAogICAgICB9OwoKICAgICAgbGV0IHBlcmNlbnREb25lID0gZmlsZURhdGEuYnl0ZUxlbmd0aCA9PT0gMCA/CiAgICAgICAgICAxMDAgOgogICAgICAgICAgTWF0aC5yb3VuZCgocG9zaXRpb24gLyBmaWxlRGF0YS5ieXRlTGVuZ3RoKSAqIDEwMCk7CiAgICAgIHBlcmNlbnQudGV4dENvbnRlbnQgPSBgJHtwZXJjZW50RG9uZX0lIGRvbmVgOwoKICAgIH0gd2hpbGUgKHBvc2l0aW9uIDwgZmlsZURhdGEuYnl0ZUxlbmd0aCk7CiAgfQoKICAvLyBBbGwgZG9uZS4KICB5aWVsZCB7CiAgICByZXNwb25zZTogewogICAgICBhY3Rpb246ICdjb21wbGV0ZScsCiAgICB9CiAgfTsKfQoKc2NvcGUuZ29vZ2xlID0gc2NvcGUuZ29vZ2xlIHx8IHt9OwpzY29wZS5nb29nbGUuY29sYWIgPSBzY29wZS5nb29nbGUuY29sYWIgfHwge307CnNjb3BlLmdvb2dsZS5jb2xhYi5fZmlsZXMgPSB7CiAgX3VwbG9hZEZpbGVzLAogIF91cGxvYWRGaWxlc0NvbnRpbnVlLAp9Owp9KShzZWxmKTsK",
              "ok": true,
              "headers": [
                [
                  "content-type",
                  "application/javascript"
                ]
              ],
              "status": 200,
              "status_text": ""
            }
          },
          "base_uri": "https://localhost:8080/",
          "height": 73
        },
        "outputId": "61c9eaa7-d80c-4b3c-8d60-7ad9e36350eb"
      },
      "source": [
        "from google.colab import files\n",
        "Uploaded=files.upload()"
      ],
      "execution_count": 7,
      "outputs": [
        {
          "output_type": "display_data",
          "data": {
            "text/html": [
              "\n",
              "     <input type=\"file\" id=\"files-749a2ee7-b759-41ae-a497-34c1054fd4f6\" name=\"files[]\" multiple disabled\n",
              "        style=\"border:none\" />\n",
              "     <output id=\"result-749a2ee7-b759-41ae-a497-34c1054fd4f6\">\n",
              "      Upload widget is only available when the cell has been executed in the\n",
              "      current browser session. Please rerun this cell to enable.\n",
              "      </output>\n",
              "      <script src=\"/nbextensions/google.colab/files.js\"></script> "
            ],
            "text/plain": [
              "<IPython.core.display.HTML object>"
            ]
          },
          "metadata": {
            "tags": []
          }
        },
        {
          "output_type": "stream",
          "text": [
            "Saving 1.csv to 1.csv\n"
          ],
          "name": "stdout"
        }
      ]
    },
    {
      "cell_type": "code",
      "metadata": {
        "id": "nWZK_f-VaxXO",
        "colab": {
          "base_uri": "https://localhost:8080/",
          "height": 417
        },
        "outputId": "71280a8d-04eb-40b5-f62e-34273e78993e"
      },
      "source": [
        "dataset= pd.read_csv('1.csv')\n",
        "dataset\n"
      ],
      "execution_count": 9,
      "outputs": [
        {
          "output_type": "execute_result",
          "data": {
            "text/html": [
              "<div>\n",
              "<style scoped>\n",
              "    .dataframe tbody tr th:only-of-type {\n",
              "        vertical-align: middle;\n",
              "    }\n",
              "\n",
              "    .dataframe tbody tr th {\n",
              "        vertical-align: top;\n",
              "    }\n",
              "\n",
              "    .dataframe thead th {\n",
              "        text-align: right;\n",
              "    }\n",
              "</style>\n",
              "<table border=\"1\" class=\"dataframe\">\n",
              "  <thead>\n",
              "    <tr style=\"text-align: right;\">\n",
              "      <th></th>\n",
              "      <th>CreditScore</th>\n",
              "      <th>Geography</th>\n",
              "      <th>Gender</th>\n",
              "      <th>Age</th>\n",
              "      <th>Tenure</th>\n",
              "      <th>Balance</th>\n",
              "      <th>HasCrCard</th>\n",
              "      <th>IsActiveMember</th>\n",
              "      <th>EstimatedSalary</th>\n",
              "      <th>Exited</th>\n",
              "    </tr>\n",
              "  </thead>\n",
              "  <tbody>\n",
              "    <tr>\n",
              "      <th>0</th>\n",
              "      <td>619</td>\n",
              "      <td>France</td>\n",
              "      <td>Female</td>\n",
              "      <td>42.0</td>\n",
              "      <td>2.0</td>\n",
              "      <td>0.00</td>\n",
              "      <td>1.0</td>\n",
              "      <td>1</td>\n",
              "      <td>101348.88</td>\n",
              "      <td>1</td>\n",
              "    </tr>\n",
              "    <tr>\n",
              "      <th>1</th>\n",
              "      <td>608</td>\n",
              "      <td>Spain</td>\n",
              "      <td>Female</td>\n",
              "      <td>41.0</td>\n",
              "      <td>1.0</td>\n",
              "      <td>83807.86</td>\n",
              "      <td>0.0</td>\n",
              "      <td>1</td>\n",
              "      <td>112542.58</td>\n",
              "      <td>0</td>\n",
              "    </tr>\n",
              "    <tr>\n",
              "      <th>2</th>\n",
              "      <td>502</td>\n",
              "      <td>France</td>\n",
              "      <td>Female</td>\n",
              "      <td>42.0</td>\n",
              "      <td>8.0</td>\n",
              "      <td>159660.80</td>\n",
              "      <td>1.0</td>\n",
              "      <td>0</td>\n",
              "      <td>113931.57</td>\n",
              "      <td>1</td>\n",
              "    </tr>\n",
              "    <tr>\n",
              "      <th>3</th>\n",
              "      <td>699</td>\n",
              "      <td>France</td>\n",
              "      <td>Female</td>\n",
              "      <td>39.0</td>\n",
              "      <td>1.0</td>\n",
              "      <td>0.00</td>\n",
              "      <td>0.0</td>\n",
              "      <td>0</td>\n",
              "      <td>93826.63</td>\n",
              "      <td>0</td>\n",
              "    </tr>\n",
              "    <tr>\n",
              "      <th>4</th>\n",
              "      <td>850</td>\n",
              "      <td>Spain</td>\n",
              "      <td>Female</td>\n",
              "      <td>43.0</td>\n",
              "      <td>2.0</td>\n",
              "      <td>125510.82</td>\n",
              "      <td>1.0</td>\n",
              "      <td>1</td>\n",
              "      <td>79084.10</td>\n",
              "      <td>0</td>\n",
              "    </tr>\n",
              "    <tr>\n",
              "      <th>...</th>\n",
              "      <td>...</td>\n",
              "      <td>...</td>\n",
              "      <td>...</td>\n",
              "      <td>...</td>\n",
              "      <td>...</td>\n",
              "      <td>...</td>\n",
              "      <td>...</td>\n",
              "      <td>...</td>\n",
              "      <td>...</td>\n",
              "      <td>...</td>\n",
              "    </tr>\n",
              "    <tr>\n",
              "      <th>58</th>\n",
              "      <td>511</td>\n",
              "      <td>Spain</td>\n",
              "      <td>Female</td>\n",
              "      <td>66.0</td>\n",
              "      <td>4.0</td>\n",
              "      <td>0.00</td>\n",
              "      <td>1.0</td>\n",
              "      <td>0</td>\n",
              "      <td>1643.11</td>\n",
              "      <td>1</td>\n",
              "    </tr>\n",
              "    <tr>\n",
              "      <th>59</th>\n",
              "      <td>614</td>\n",
              "      <td>France</td>\n",
              "      <td>Male</td>\n",
              "      <td>51.0</td>\n",
              "      <td>4.0</td>\n",
              "      <td>40685.92</td>\n",
              "      <td>1.0</td>\n",
              "      <td>1</td>\n",
              "      <td>46775.28</td>\n",
              "      <td>0</td>\n",
              "    </tr>\n",
              "    <tr>\n",
              "      <th>60</th>\n",
              "      <td>742</td>\n",
              "      <td>France</td>\n",
              "      <td>Male</td>\n",
              "      <td>35.0</td>\n",
              "      <td>5.0</td>\n",
              "      <td>136857.00</td>\n",
              "      <td>0.0</td>\n",
              "      <td>0</td>\n",
              "      <td>84509.57</td>\n",
              "      <td>0</td>\n",
              "    </tr>\n",
              "    <tr>\n",
              "      <th>61</th>\n",
              "      <td>687</td>\n",
              "      <td>France</td>\n",
              "      <td>Female</td>\n",
              "      <td>27.0</td>\n",
              "      <td>9.0</td>\n",
              "      <td>152328.88</td>\n",
              "      <td>0.0</td>\n",
              "      <td>0</td>\n",
              "      <td>126494.82</td>\n",
              "      <td>0</td>\n",
              "    </tr>\n",
              "    <tr>\n",
              "      <th>62</th>\n",
              "      <td>555</td>\n",
              "      <td>Spain</td>\n",
              "      <td>Male</td>\n",
              "      <td>NaN</td>\n",
              "      <td>1.0</td>\n",
              "      <td>56084.69</td>\n",
              "      <td>0.0</td>\n",
              "      <td>0</td>\n",
              "      <td>178798.13</td>\n",
              "      <td>0</td>\n",
              "    </tr>\n",
              "  </tbody>\n",
              "</table>\n",
              "<p>63 rows × 10 columns</p>\n",
              "</div>"
            ],
            "text/plain": [
              "    CreditScore Geography  Gender  ...  IsActiveMember  EstimatedSalary  Exited\n",
              "0           619    France  Female  ...               1        101348.88       1\n",
              "1           608     Spain  Female  ...               1        112542.58       0\n",
              "2           502    France  Female  ...               0        113931.57       1\n",
              "3           699    France  Female  ...               0         93826.63       0\n",
              "4           850     Spain  Female  ...               1         79084.10       0\n",
              "..          ...       ...     ...  ...             ...              ...     ...\n",
              "58          511     Spain  Female  ...               0          1643.11       1\n",
              "59          614    France    Male  ...               1         46775.28       0\n",
              "60          742    France    Male  ...               0         84509.57       0\n",
              "61          687    France  Female  ...               0        126494.82       0\n",
              "62          555     Spain    Male  ...               0        178798.13       0\n",
              "\n",
              "[63 rows x 10 columns]"
            ]
          },
          "metadata": {
            "tags": []
          },
          "execution_count": 9
        }
      ]
    },
    {
      "cell_type": "code",
      "metadata": {
        "id": "HfBjl4LhRAjK",
        "colab": {
          "base_uri": "https://localhost:8080/"
        },
        "outputId": "f43c9d4d-6539-4626-d6a4-cb2c37b6bd05"
      },
      "source": [
        "#Check Missing Data\n",
        "dataset.isnull().sum()"
      ],
      "execution_count": 10,
      "outputs": [
        {
          "output_type": "execute_result",
          "data": {
            "text/plain": [
              "CreditScore        0\n",
              "Geography          0\n",
              "Gender             2\n",
              "Age                2\n",
              "Tenure             1\n",
              "Balance            6\n",
              "HasCrCard          2\n",
              "IsActiveMember     0\n",
              "EstimatedSalary    0\n",
              "Exited             0\n",
              "dtype: int64"
            ]
          },
          "metadata": {
            "tags": []
          },
          "execution_count": 10
        }
      ]
    },
    {
      "cell_type": "code",
      "metadata": {
        "colab": {
          "base_uri": "https://localhost:8080/"
        },
        "id": "PgGM6z_bRW8C",
        "outputId": "4d3d0ed5-111d-4458-ee7f-a57256e3f832"
      },
      "source": [
        "dataset.info()"
      ],
      "execution_count": 11,
      "outputs": [
        {
          "output_type": "stream",
          "text": [
            "<class 'pandas.core.frame.DataFrame'>\n",
            "RangeIndex: 63 entries, 0 to 62\n",
            "Data columns (total 10 columns):\n",
            " #   Column           Non-Null Count  Dtype  \n",
            "---  ------           --------------  -----  \n",
            " 0   CreditScore      63 non-null     int64  \n",
            " 1   Geography        63 non-null     object \n",
            " 2   Gender           61 non-null     object \n",
            " 3   Age              61 non-null     float64\n",
            " 4   Tenure           62 non-null     float64\n",
            " 5   Balance          57 non-null     float64\n",
            " 6   HasCrCard        61 non-null     float64\n",
            " 7   IsActiveMember   63 non-null     int64  \n",
            " 8   EstimatedSalary  63 non-null     float64\n",
            " 9   Exited           63 non-null     int64  \n",
            "dtypes: float64(5), int64(3), object(2)\n",
            "memory usage: 5.0+ KB\n"
          ],
          "name": "stdout"
        }
      ]
    },
    {
      "cell_type": "code",
      "metadata": {
        "id": "OpVrPOb0t3m5"
      },
      "source": [
        "# Extracting dependent and independent variables:\n",
        "# Extracting independent variable:\n",
        "X = dataset.iloc[:,0:8].values\n",
        "# Extracting dependent variable:\n",
        "y = dataset.iloc[:,9].values"
      ],
      "execution_count": 15,
      "outputs": []
    },
    {
      "cell_type": "code",
      "metadata": {
        "id": "6JnZ8ZmFtq4D"
      },
      "source": [
        "# Taking care of missing data\n",
        "#handling missing data (Replacing missing data with the mean value)  \n",
        "from sklearn.impute import SimpleImputer\n",
        "imputer = SimpleImputer(missing_values= np.NaN, strategy= 'mean', fill_value=None, verbose=1, copy=True)\n",
        "#Fitting imputer object to the independent variables x.   \n",
        "imputer = imputer.fit(X[:,3:9]) \n",
        "#Replacing missing data with the calculated mean value  \n",
        "X[:,3:9]= imputer.transform(X[:,3:9])  "
      ],
      "execution_count": 16,
      "outputs": []
    },
    {
      "cell_type": "code",
      "metadata": {
        "id": "8y_h-RqNuY6I"
      },
      "source": [
        "# Taking care of missing data\n",
        "#handling missing data (Replacing missing data with the mean value)  \n",
        "from sklearn.impute import SimpleImputer\n",
        "imputer = SimpleImputer(missing_values= np.NaN, strategy= 'constant', fill_value='female', verbose=1, copy=True)\n",
        "#Fitting imputer object to the independent variables x.   \n",
        "imputer = imputer.fit(X[:, 2:3]) \n",
        "#Replacing missing data with the constant value  \n",
        "X[:, 2:3]= imputer.transform(X[:,2:3])  "
      ],
      "execution_count": 17,
      "outputs": []
    },
    {
      "cell_type": "code",
      "metadata": {
        "id": "VWqeqy-1bL4U",
        "colab": {
          "base_uri": "https://localhost:8080/"
        },
        "outputId": "3842d767-8580-4134-e14e-36fef53b2029"
      },
      "source": [
        "print(X)"
      ],
      "execution_count": 19,
      "outputs": [
        {
          "output_type": "stream",
          "text": [
            "[[619 'France' 'Female' 42.0 2.0 0.0 1.0 1.0]\n",
            " [608 'Spain' 'Female' 41.0 1.0 83807.86 0.0 1.0]\n",
            " [502 'France' 'Female' 42.0 8.0 159660.8 1.0 0.0]\n",
            " [699 'France' 'Female' 39.0 1.0 0.0 0.0 0.0]\n",
            " [850 'Spain' 'Female' 43.0 2.0 125510.82 1.0 1.0]\n",
            " [645 'Spain' 'Male' 44.0 8.0 113755.78 1.0 0.0]\n",
            " [822 'France' 'Male' 50.0 7.0 0.0 1.0 1.0]\n",
            " [376 'France' 'Female' 29.0 4.0 115046.74 1.0 0.0]\n",
            " [501 'France' 'Male' 44.0 4.0 142051.07 0.6229508196721312 1.0]\n",
            " [684 'France' 'Male' 27.0 2.0 134603.88 1.0 1.0]\n",
            " [528 'France' 'Male' 31.0 6.0 102016.72 0.0 0.0]\n",
            " [497 'Spain' 'Male' 24.0 3.0 0.0 1.0 0.0]\n",
            " [476 'France' 'Female' 34.0 4.709677419354839 0.0 1.0 0.0]\n",
            " [549 'France' 'Female' 25.0 5.0 0.0 0.0 0.0]\n",
            " [635 'Spain' 'Female' 35.0 7.0 0.0 1.0 1.0]\n",
            " [616 'France' 'Male' 45.0 3.0 143129.41 0.6229508196721312 1.0]\n",
            " [653 'France' 'Male' 58.0 1.0 132602.88 1.0 0.0]\n",
            " [549 'Spain' 'Female' 24.0 9.0 0.0 1.0 1.0]\n",
            " [587 'Spain' 'female' 45.0 6.0 0.0 0.0 0.0]\n",
            " [726 'France' 'Female' 24.0 6.0 0.0 1.0 1.0]\n",
            " [732 'France' 'Male' 41.0 8.0 0.0 1.0 1.0]\n",
            " [636 'Spain' 'Female' 32.0 8.0 0.0 1.0 0.0]\n",
            " [510 'Spain' 'Female' 38.0 4.0 0.0 1.0 0.0]\n",
            " [669 'France' 'Male' 46.0 3.0 0.0 0.0 1.0]\n",
            " [846 'France' 'female' 38.0 5.0 0.0 1.0 1.0]\n",
            " [577 'France' 'Male' 25.0 3.0 0.0 0.0 1.0]\n",
            " [756 'France' 'Male' 36.0 2.0 136815.64 1.0 1.0]\n",
            " [571 'France' 'Male' 44.0 9.0 0.0 0.0 0.0]\n",
            " [574 'France' 'Female' 43.0 3.0 68372.54684210526 1.0 1.0]\n",
            " [411 'France' 'Male' 29.0 0.0 68372.54684210526 1.0 1.0]\n",
            " [591 'Spain' 'Female' 39.0 3.0 0.0 1.0 0.0]\n",
            " [533 'France' 'Male' 36.0 7.0 85311.7 0.0 1.0]\n",
            " [553 'France' 'Male' 38.80327868852459 9.0 110112.54 0.0 0.0]\n",
            " [520 'Spain' 'Female' 42.0 6.0 0.0 1.0 1.0]\n",
            " [722 'Spain' 'Female' 29.0 9.0 0.0 1.0 1.0]\n",
            " [475 'France' 'Female' 45.0 0.0 134264.04 1.0 0.0]\n",
            " [490 'Spain' 'Male' 31.0 3.0 145260.23 0.0 1.0]\n",
            " [804 'Spain' 'Male' 33.0 7.0 76548.6 0.0 1.0]\n",
            " [850 'France' 'Male' 36.0 7.0 0.0 1.0 1.0]\n",
            " [582 'France' 'Male' 41.0 6.0 70349.48 0.0 1.0]\n",
            " [472 'Spain' 'Male' 40.0 4.0 0.0 1.0 0.0]\n",
            " [465 'France' 'Female' 51.0 8.0 122522.32 0.0 0.0]\n",
            " [556 'France' 'Female' 61.0 2.0 68372.54684210526 1.0 1.0]\n",
            " [834 'France' 'Female' 49.0 2.0 131394.56 0.0 0.0]\n",
            " [660 'Spain' 'Female' 61.0 5.0 155931.11 1.0 1.0]\n",
            " [776 'France' 'Female' 32.0 4.0 109421.13 1.0 1.0]\n",
            " [829 'France' 'Female' 27.0 9.0 68372.54684210526 1.0 1.0]\n",
            " [637 'France' 'Female' 39.0 9.0 137843.8 1.0 1.0]\n",
            " [550 'France' 'Male' 38.0 2.0 68372.54684210526 0.0 1.0]\n",
            " [776 'France' 'Female' 37.0 2.0 103769.22 1.0 0.0]\n",
            " [698 'France' 'Male' 44.0 10.0 116363.37 1.0 0.0]\n",
            " [585 'France' 'Male' 36.0 5.0 146050.97 0.0 0.0]\n",
            " [788 'France' 'Female' 33.0 5.0 0.0 0.0 0.0]\n",
            " [655 'France' 'Male' 41.0 8.0 125561.97 0.0 0.0]\n",
            " [601 'France' 'Male' 42.0 1.0 98495.72 1.0 0.0]\n",
            " [619 'France' 'Male' 43.0 1.0 125211.92 1.0 1.0]\n",
            " [656 'France' 'Male' 45.0 5.0 127864.4 1.0 0.0]\n",
            " [725 'France' 'Male' 19.0 0.0 68372.54684210526 0.0 0.0]\n",
            " [511 'Spain' 'Female' 66.0 4.0 0.0 1.0 0.0]\n",
            " [614 'France' 'Male' 51.0 4.0 40685.92 1.0 1.0]\n",
            " [742 'France' 'Male' 35.0 5.0 136857.0 0.0 0.0]\n",
            " [687 'France' 'Female' 27.0 9.0 152328.88 0.0 0.0]\n",
            " [555 'Spain' 'Male' 38.80327868852459 1.0 56084.69 0.0 0.0]]\n"
          ],
          "name": "stdout"
        }
      ]
    },
    {
      "cell_type": "code",
      "metadata": {
        "id": "KrRWpkzbbS4P",
        "colab": {
          "base_uri": "https://localhost:8080/"
        },
        "outputId": "11c721b9-adc5-4bb9-b10f-5f3fd8ca6e14"
      },
      "source": [
        "print(y)"
      ],
      "execution_count": 20,
      "outputs": [
        {
          "output_type": "stream",
          "text": [
            "[1 0 1 0 0 1 0 1 0 0 0 0 0 0 0 0 1 0 0 0 0 0 1 0 0 0 0 0 0 0 1 0 0 0 0 1 0\n",
            " 0 0 0 0 1 0 1 0 0 1 1 0 0 0 0 0 1 1 0 0 0 1 0 0 0 0]\n"
          ],
          "name": "stdout"
        }
      ]
    },
    {
      "cell_type": "code",
      "metadata": {
        "id": "8MopJzDeyxSN"
      },
      "source": [
        "# Encoding Categorical data:\n",
        "# Encoding the Independent Variable\n",
        "from sklearn.preprocessing import LabelEncoder\n",
        "labelencoder_X = LabelEncoder()\n",
        "X[:, 1] = labelencoder_X.fit_transform(X[:, 1])"
      ],
      "execution_count": 21,
      "outputs": []
    },
    {
      "cell_type": "code",
      "metadata": {
        "colab": {
          "base_uri": "https://localhost:8080/"
        },
        "id": "ARRK8OzHyxUu",
        "outputId": "4f8662f4-4d2e-4210-8c70-55d4f926c5c9"
      },
      "source": [
        "print(X)"
      ],
      "execution_count": 22,
      "outputs": [
        {
          "output_type": "stream",
          "text": [
            "[[619 0 'Female' 42.0 2.0 0.0 1.0 1.0]\n",
            " [608 1 'Female' 41.0 1.0 83807.86 0.0 1.0]\n",
            " [502 0 'Female' 42.0 8.0 159660.8 1.0 0.0]\n",
            " [699 0 'Female' 39.0 1.0 0.0 0.0 0.0]\n",
            " [850 1 'Female' 43.0 2.0 125510.82 1.0 1.0]\n",
            " [645 1 'Male' 44.0 8.0 113755.78 1.0 0.0]\n",
            " [822 0 'Male' 50.0 7.0 0.0 1.0 1.0]\n",
            " [376 0 'Female' 29.0 4.0 115046.74 1.0 0.0]\n",
            " [501 0 'Male' 44.0 4.0 142051.07 0.6229508196721312 1.0]\n",
            " [684 0 'Male' 27.0 2.0 134603.88 1.0 1.0]\n",
            " [528 0 'Male' 31.0 6.0 102016.72 0.0 0.0]\n",
            " [497 1 'Male' 24.0 3.0 0.0 1.0 0.0]\n",
            " [476 0 'Female' 34.0 4.709677419354839 0.0 1.0 0.0]\n",
            " [549 0 'Female' 25.0 5.0 0.0 0.0 0.0]\n",
            " [635 1 'Female' 35.0 7.0 0.0 1.0 1.0]\n",
            " [616 0 'Male' 45.0 3.0 143129.41 0.6229508196721312 1.0]\n",
            " [653 0 'Male' 58.0 1.0 132602.88 1.0 0.0]\n",
            " [549 1 'Female' 24.0 9.0 0.0 1.0 1.0]\n",
            " [587 1 'female' 45.0 6.0 0.0 0.0 0.0]\n",
            " [726 0 'Female' 24.0 6.0 0.0 1.0 1.0]\n",
            " [732 0 'Male' 41.0 8.0 0.0 1.0 1.0]\n",
            " [636 1 'Female' 32.0 8.0 0.0 1.0 0.0]\n",
            " [510 1 'Female' 38.0 4.0 0.0 1.0 0.0]\n",
            " [669 0 'Male' 46.0 3.0 0.0 0.0 1.0]\n",
            " [846 0 'female' 38.0 5.0 0.0 1.0 1.0]\n",
            " [577 0 'Male' 25.0 3.0 0.0 0.0 1.0]\n",
            " [756 0 'Male' 36.0 2.0 136815.64 1.0 1.0]\n",
            " [571 0 'Male' 44.0 9.0 0.0 0.0 0.0]\n",
            " [574 0 'Female' 43.0 3.0 68372.54684210526 1.0 1.0]\n",
            " [411 0 'Male' 29.0 0.0 68372.54684210526 1.0 1.0]\n",
            " [591 1 'Female' 39.0 3.0 0.0 1.0 0.0]\n",
            " [533 0 'Male' 36.0 7.0 85311.7 0.0 1.0]\n",
            " [553 0 'Male' 38.80327868852459 9.0 110112.54 0.0 0.0]\n",
            " [520 1 'Female' 42.0 6.0 0.0 1.0 1.0]\n",
            " [722 1 'Female' 29.0 9.0 0.0 1.0 1.0]\n",
            " [475 0 'Female' 45.0 0.0 134264.04 1.0 0.0]\n",
            " [490 1 'Male' 31.0 3.0 145260.23 0.0 1.0]\n",
            " [804 1 'Male' 33.0 7.0 76548.6 0.0 1.0]\n",
            " [850 0 'Male' 36.0 7.0 0.0 1.0 1.0]\n",
            " [582 0 'Male' 41.0 6.0 70349.48 0.0 1.0]\n",
            " [472 1 'Male' 40.0 4.0 0.0 1.0 0.0]\n",
            " [465 0 'Female' 51.0 8.0 122522.32 0.0 0.0]\n",
            " [556 0 'Female' 61.0 2.0 68372.54684210526 1.0 1.0]\n",
            " [834 0 'Female' 49.0 2.0 131394.56 0.0 0.0]\n",
            " [660 1 'Female' 61.0 5.0 155931.11 1.0 1.0]\n",
            " [776 0 'Female' 32.0 4.0 109421.13 1.0 1.0]\n",
            " [829 0 'Female' 27.0 9.0 68372.54684210526 1.0 1.0]\n",
            " [637 0 'Female' 39.0 9.0 137843.8 1.0 1.0]\n",
            " [550 0 'Male' 38.0 2.0 68372.54684210526 0.0 1.0]\n",
            " [776 0 'Female' 37.0 2.0 103769.22 1.0 0.0]\n",
            " [698 0 'Male' 44.0 10.0 116363.37 1.0 0.0]\n",
            " [585 0 'Male' 36.0 5.0 146050.97 0.0 0.0]\n",
            " [788 0 'Female' 33.0 5.0 0.0 0.0 0.0]\n",
            " [655 0 'Male' 41.0 8.0 125561.97 0.0 0.0]\n",
            " [601 0 'Male' 42.0 1.0 98495.72 1.0 0.0]\n",
            " [619 0 'Male' 43.0 1.0 125211.92 1.0 1.0]\n",
            " [656 0 'Male' 45.0 5.0 127864.4 1.0 0.0]\n",
            " [725 0 'Male' 19.0 0.0 68372.54684210526 0.0 0.0]\n",
            " [511 1 'Female' 66.0 4.0 0.0 1.0 0.0]\n",
            " [614 0 'Male' 51.0 4.0 40685.92 1.0 1.0]\n",
            " [742 0 'Male' 35.0 5.0 136857.0 0.0 0.0]\n",
            " [687 0 'Female' 27.0 9.0 152328.88 0.0 0.0]\n",
            " [555 1 'Male' 38.80327868852459 1.0 56084.69 0.0 0.0]]\n"
          ],
          "name": "stdout"
        }
      ]
    },
    {
      "cell_type": "code",
      "metadata": {
        "colab": {
          "base_uri": "https://localhost:8080/"
        },
        "id": "FOLXlDONW5kj",
        "outputId": "806d9675-4e38-4f73-8cd6-46c15bf553e2"
      },
      "source": [
        "print(X)"
      ],
      "execution_count": 23,
      "outputs": [
        {
          "output_type": "stream",
          "text": [
            "[[619 0 'Female' 42.0 2.0 0.0 1.0 1.0]\n",
            " [608 1 'Female' 41.0 1.0 83807.86 0.0 1.0]\n",
            " [502 0 'Female' 42.0 8.0 159660.8 1.0 0.0]\n",
            " [699 0 'Female' 39.0 1.0 0.0 0.0 0.0]\n",
            " [850 1 'Female' 43.0 2.0 125510.82 1.0 1.0]\n",
            " [645 1 'Male' 44.0 8.0 113755.78 1.0 0.0]\n",
            " [822 0 'Male' 50.0 7.0 0.0 1.0 1.0]\n",
            " [376 0 'Female' 29.0 4.0 115046.74 1.0 0.0]\n",
            " [501 0 'Male' 44.0 4.0 142051.07 0.6229508196721312 1.0]\n",
            " [684 0 'Male' 27.0 2.0 134603.88 1.0 1.0]\n",
            " [528 0 'Male' 31.0 6.0 102016.72 0.0 0.0]\n",
            " [497 1 'Male' 24.0 3.0 0.0 1.0 0.0]\n",
            " [476 0 'Female' 34.0 4.709677419354839 0.0 1.0 0.0]\n",
            " [549 0 'Female' 25.0 5.0 0.0 0.0 0.0]\n",
            " [635 1 'Female' 35.0 7.0 0.0 1.0 1.0]\n",
            " [616 0 'Male' 45.0 3.0 143129.41 0.6229508196721312 1.0]\n",
            " [653 0 'Male' 58.0 1.0 132602.88 1.0 0.0]\n",
            " [549 1 'Female' 24.0 9.0 0.0 1.0 1.0]\n",
            " [587 1 'female' 45.0 6.0 0.0 0.0 0.0]\n",
            " [726 0 'Female' 24.0 6.0 0.0 1.0 1.0]\n",
            " [732 0 'Male' 41.0 8.0 0.0 1.0 1.0]\n",
            " [636 1 'Female' 32.0 8.0 0.0 1.0 0.0]\n",
            " [510 1 'Female' 38.0 4.0 0.0 1.0 0.0]\n",
            " [669 0 'Male' 46.0 3.0 0.0 0.0 1.0]\n",
            " [846 0 'female' 38.0 5.0 0.0 1.0 1.0]\n",
            " [577 0 'Male' 25.0 3.0 0.0 0.0 1.0]\n",
            " [756 0 'Male' 36.0 2.0 136815.64 1.0 1.0]\n",
            " [571 0 'Male' 44.0 9.0 0.0 0.0 0.0]\n",
            " [574 0 'Female' 43.0 3.0 68372.54684210526 1.0 1.0]\n",
            " [411 0 'Male' 29.0 0.0 68372.54684210526 1.0 1.0]\n",
            " [591 1 'Female' 39.0 3.0 0.0 1.0 0.0]\n",
            " [533 0 'Male' 36.0 7.0 85311.7 0.0 1.0]\n",
            " [553 0 'Male' 38.80327868852459 9.0 110112.54 0.0 0.0]\n",
            " [520 1 'Female' 42.0 6.0 0.0 1.0 1.0]\n",
            " [722 1 'Female' 29.0 9.0 0.0 1.0 1.0]\n",
            " [475 0 'Female' 45.0 0.0 134264.04 1.0 0.0]\n",
            " [490 1 'Male' 31.0 3.0 145260.23 0.0 1.0]\n",
            " [804 1 'Male' 33.0 7.0 76548.6 0.0 1.0]\n",
            " [850 0 'Male' 36.0 7.0 0.0 1.0 1.0]\n",
            " [582 0 'Male' 41.0 6.0 70349.48 0.0 1.0]\n",
            " [472 1 'Male' 40.0 4.0 0.0 1.0 0.0]\n",
            " [465 0 'Female' 51.0 8.0 122522.32 0.0 0.0]\n",
            " [556 0 'Female' 61.0 2.0 68372.54684210526 1.0 1.0]\n",
            " [834 0 'Female' 49.0 2.0 131394.56 0.0 0.0]\n",
            " [660 1 'Female' 61.0 5.0 155931.11 1.0 1.0]\n",
            " [776 0 'Female' 32.0 4.0 109421.13 1.0 1.0]\n",
            " [829 0 'Female' 27.0 9.0 68372.54684210526 1.0 1.0]\n",
            " [637 0 'Female' 39.0 9.0 137843.8 1.0 1.0]\n",
            " [550 0 'Male' 38.0 2.0 68372.54684210526 0.0 1.0]\n",
            " [776 0 'Female' 37.0 2.0 103769.22 1.0 0.0]\n",
            " [698 0 'Male' 44.0 10.0 116363.37 1.0 0.0]\n",
            " [585 0 'Male' 36.0 5.0 146050.97 0.0 0.0]\n",
            " [788 0 'Female' 33.0 5.0 0.0 0.0 0.0]\n",
            " [655 0 'Male' 41.0 8.0 125561.97 0.0 0.0]\n",
            " [601 0 'Male' 42.0 1.0 98495.72 1.0 0.0]\n",
            " [619 0 'Male' 43.0 1.0 125211.92 1.0 1.0]\n",
            " [656 0 'Male' 45.0 5.0 127864.4 1.0 0.0]\n",
            " [725 0 'Male' 19.0 0.0 68372.54684210526 0.0 0.0]\n",
            " [511 1 'Female' 66.0 4.0 0.0 1.0 0.0]\n",
            " [614 0 'Male' 51.0 4.0 40685.92 1.0 1.0]\n",
            " [742 0 'Male' 35.0 5.0 136857.0 0.0 0.0]\n",
            " [687 0 'Female' 27.0 9.0 152328.88 0.0 0.0]\n",
            " [555 1 'Male' 38.80327868852459 1.0 56084.69 0.0 0.0]]\n"
          ],
          "name": "stdout"
        }
      ]
    },
    {
      "cell_type": "code",
      "metadata": {
        "id": "Jz-F-9GbWruj"
      },
      "source": [
        "# Encoding Categorical data:\n",
        "# Encoding the Independent Variable\n",
        "from sklearn.preprocessing import LabelEncoder\n",
        "labelencoder_X = LabelEncoder()\n",
        "X[:, 2] = labelencoder_X.fit_transform(X[:, 2])"
      ],
      "execution_count": 24,
      "outputs": []
    },
    {
      "cell_type": "code",
      "metadata": {
        "colab": {
          "base_uri": "https://localhost:8080/"
        },
        "id": "5VTnlNVSW8rR",
        "outputId": "4e56f78c-ff3d-4ab8-cd99-56d2e9b6a205"
      },
      "source": [
        "print(X)"
      ],
      "execution_count": 25,
      "outputs": [
        {
          "output_type": "stream",
          "text": [
            "[[619 0 0 42.0 2.0 0.0 1.0 1.0]\n",
            " [608 1 0 41.0 1.0 83807.86 0.0 1.0]\n",
            " [502 0 0 42.0 8.0 159660.8 1.0 0.0]\n",
            " [699 0 0 39.0 1.0 0.0 0.0 0.0]\n",
            " [850 1 0 43.0 2.0 125510.82 1.0 1.0]\n",
            " [645 1 1 44.0 8.0 113755.78 1.0 0.0]\n",
            " [822 0 1 50.0 7.0 0.0 1.0 1.0]\n",
            " [376 0 0 29.0 4.0 115046.74 1.0 0.0]\n",
            " [501 0 1 44.0 4.0 142051.07 0.6229508196721312 1.0]\n",
            " [684 0 1 27.0 2.0 134603.88 1.0 1.0]\n",
            " [528 0 1 31.0 6.0 102016.72 0.0 0.0]\n",
            " [497 1 1 24.0 3.0 0.0 1.0 0.0]\n",
            " [476 0 0 34.0 4.709677419354839 0.0 1.0 0.0]\n",
            " [549 0 0 25.0 5.0 0.0 0.0 0.0]\n",
            " [635 1 0 35.0 7.0 0.0 1.0 1.0]\n",
            " [616 0 1 45.0 3.0 143129.41 0.6229508196721312 1.0]\n",
            " [653 0 1 58.0 1.0 132602.88 1.0 0.0]\n",
            " [549 1 0 24.0 9.0 0.0 1.0 1.0]\n",
            " [587 1 2 45.0 6.0 0.0 0.0 0.0]\n",
            " [726 0 0 24.0 6.0 0.0 1.0 1.0]\n",
            " [732 0 1 41.0 8.0 0.0 1.0 1.0]\n",
            " [636 1 0 32.0 8.0 0.0 1.0 0.0]\n",
            " [510 1 0 38.0 4.0 0.0 1.0 0.0]\n",
            " [669 0 1 46.0 3.0 0.0 0.0 1.0]\n",
            " [846 0 2 38.0 5.0 0.0 1.0 1.0]\n",
            " [577 0 1 25.0 3.0 0.0 0.0 1.0]\n",
            " [756 0 1 36.0 2.0 136815.64 1.0 1.0]\n",
            " [571 0 1 44.0 9.0 0.0 0.0 0.0]\n",
            " [574 0 0 43.0 3.0 68372.54684210526 1.0 1.0]\n",
            " [411 0 1 29.0 0.0 68372.54684210526 1.0 1.0]\n",
            " [591 1 0 39.0 3.0 0.0 1.0 0.0]\n",
            " [533 0 1 36.0 7.0 85311.7 0.0 1.0]\n",
            " [553 0 1 38.80327868852459 9.0 110112.54 0.0 0.0]\n",
            " [520 1 0 42.0 6.0 0.0 1.0 1.0]\n",
            " [722 1 0 29.0 9.0 0.0 1.0 1.0]\n",
            " [475 0 0 45.0 0.0 134264.04 1.0 0.0]\n",
            " [490 1 1 31.0 3.0 145260.23 0.0 1.0]\n",
            " [804 1 1 33.0 7.0 76548.6 0.0 1.0]\n",
            " [850 0 1 36.0 7.0 0.0 1.0 1.0]\n",
            " [582 0 1 41.0 6.0 70349.48 0.0 1.0]\n",
            " [472 1 1 40.0 4.0 0.0 1.0 0.0]\n",
            " [465 0 0 51.0 8.0 122522.32 0.0 0.0]\n",
            " [556 0 0 61.0 2.0 68372.54684210526 1.0 1.0]\n",
            " [834 0 0 49.0 2.0 131394.56 0.0 0.0]\n",
            " [660 1 0 61.0 5.0 155931.11 1.0 1.0]\n",
            " [776 0 0 32.0 4.0 109421.13 1.0 1.0]\n",
            " [829 0 0 27.0 9.0 68372.54684210526 1.0 1.0]\n",
            " [637 0 0 39.0 9.0 137843.8 1.0 1.0]\n",
            " [550 0 1 38.0 2.0 68372.54684210526 0.0 1.0]\n",
            " [776 0 0 37.0 2.0 103769.22 1.0 0.0]\n",
            " [698 0 1 44.0 10.0 116363.37 1.0 0.0]\n",
            " [585 0 1 36.0 5.0 146050.97 0.0 0.0]\n",
            " [788 0 0 33.0 5.0 0.0 0.0 0.0]\n",
            " [655 0 1 41.0 8.0 125561.97 0.0 0.0]\n",
            " [601 0 1 42.0 1.0 98495.72 1.0 0.0]\n",
            " [619 0 1 43.0 1.0 125211.92 1.0 1.0]\n",
            " [656 0 1 45.0 5.0 127864.4 1.0 0.0]\n",
            " [725 0 1 19.0 0.0 68372.54684210526 0.0 0.0]\n",
            " [511 1 0 66.0 4.0 0.0 1.0 0.0]\n",
            " [614 0 1 51.0 4.0 40685.92 1.0 1.0]\n",
            " [742 0 1 35.0 5.0 136857.0 0.0 0.0]\n",
            " [687 0 0 27.0 9.0 152328.88 0.0 0.0]\n",
            " [555 1 1 38.80327868852459 1.0 56084.69 0.0 0.0]]\n"
          ],
          "name": "stdout"
        }
      ]
    },
    {
      "cell_type": "code",
      "metadata": {
        "id": "UzrhbKTfbgVL"
      },
      "source": [
        "# Splitting the dataset into the Training set and Test set\n",
        "from sklearn.model_selection import train_test_split\n",
        "\n",
        "X_train, X_test, y_train, y_test = train_test_split(X, y, test_size = 0.25, random_state = 5)"
      ],
      "execution_count": 26,
      "outputs": []
    },
    {
      "cell_type": "code",
      "metadata": {
        "id": "7P72zs0Xbnqr",
        "colab": {
          "base_uri": "https://localhost:8080/"
        },
        "outputId": "2da3ef9e-82de-42a9-929a-d4ddfffac0c7"
      },
      "source": [
        "print(X_train)"
      ],
      "execution_count": 27,
      "outputs": [
        {
          "output_type": "stream",
          "text": [
            "[[585 0 1 36.0 5.0 146050.97 0.0 0.0]\n",
            " [549 1 0 24.0 9.0 0.0 1.0 1.0]\n",
            " [669 0 1 46.0 3.0 0.0 0.0 1.0]\n",
            " [822 0 1 50.0 7.0 0.0 1.0 1.0]\n",
            " [846 0 2 38.0 5.0 0.0 1.0 1.0]\n",
            " [502 0 0 42.0 8.0 159660.8 1.0 0.0]\n",
            " [726 0 0 24.0 6.0 0.0 1.0 1.0]\n",
            " [555 1 1 38.80327868852459 1.0 56084.69 0.0 0.0]\n",
            " [411 0 1 29.0 0.0 68372.54684210526 1.0 1.0]\n",
            " [533 0 1 36.0 7.0 85311.7 0.0 1.0]\n",
            " [850 1 0 43.0 2.0 125510.82 1.0 1.0]\n",
            " [553 0 1 38.80327868852459 9.0 110112.54 0.0 0.0]\n",
            " [619 0 0 42.0 2.0 0.0 1.0 1.0]\n",
            " [756 0 1 36.0 2.0 136815.64 1.0 1.0]\n",
            " [645 1 1 44.0 8.0 113755.78 1.0 0.0]\n",
            " [687 0 0 27.0 9.0 152328.88 0.0 0.0]\n",
            " [660 1 0 61.0 5.0 155931.11 1.0 1.0]\n",
            " [511 1 0 66.0 4.0 0.0 1.0 0.0]\n",
            " [472 1 1 40.0 4.0 0.0 1.0 0.0]\n",
            " [656 0 1 45.0 5.0 127864.4 1.0 0.0]\n",
            " [587 1 2 45.0 6.0 0.0 0.0 0.0]\n",
            " [510 1 0 38.0 4.0 0.0 1.0 0.0]\n",
            " [732 0 1 41.0 8.0 0.0 1.0 1.0]\n",
            " [698 0 1 44.0 10.0 116363.37 1.0 0.0]\n",
            " [608 1 0 41.0 1.0 83807.86 0.0 1.0]\n",
            " [497 1 1 24.0 3.0 0.0 1.0 0.0]\n",
            " [549 0 0 25.0 5.0 0.0 0.0 0.0]\n",
            " [788 0 0 33.0 5.0 0.0 0.0 0.0]\n",
            " [776 0 0 37.0 2.0 103769.22 1.0 0.0]\n",
            " [655 0 1 41.0 8.0 125561.97 0.0 0.0]\n",
            " [616 0 1 45.0 3.0 143129.41 0.6229508196721312 1.0]\n",
            " [476 0 0 34.0 4.709677419354839 0.0 1.0 0.0]\n",
            " [376 0 0 29.0 4.0 115046.74 1.0 0.0]\n",
            " [725 0 1 19.0 0.0 68372.54684210526 0.0 0.0]\n",
            " [591 1 0 39.0 3.0 0.0 1.0 0.0]\n",
            " [550 0 1 38.0 2.0 68372.54684210526 0.0 1.0]\n",
            " [571 0 1 44.0 9.0 0.0 0.0 0.0]\n",
            " [582 0 1 41.0 6.0 70349.48 0.0 1.0]\n",
            " [490 1 1 31.0 3.0 145260.23 0.0 1.0]\n",
            " [501 0 1 44.0 4.0 142051.07 0.6229508196721312 1.0]\n",
            " [684 0 1 27.0 2.0 134603.88 1.0 1.0]\n",
            " [653 0 1 58.0 1.0 132602.88 1.0 0.0]\n",
            " [601 0 1 42.0 1.0 98495.72 1.0 0.0]\n",
            " [850 0 1 36.0 7.0 0.0 1.0 1.0]\n",
            " [637 0 0 39.0 9.0 137843.8 1.0 1.0]\n",
            " [635 1 0 35.0 7.0 0.0 1.0 1.0]\n",
            " [475 0 0 45.0 0.0 134264.04 1.0 0.0]]\n"
          ],
          "name": "stdout"
        }
      ]
    },
    {
      "cell_type": "code",
      "metadata": {
        "id": "MYY7nwKAbwIn",
        "colab": {
          "base_uri": "https://localhost:8080/"
        },
        "outputId": "85d7ad82-9859-428a-d11d-4d08b8901814"
      },
      "source": [
        "print(X_test)"
      ],
      "execution_count": 28,
      "outputs": [
        {
          "output_type": "stream",
          "text": [
            "[[574 0 0 43.0 3.0 68372.54684210526 1.0 1.0]\n",
            " [636 1 0 32.0 8.0 0.0 1.0 0.0]\n",
            " [776 0 0 32.0 4.0 109421.13 1.0 1.0]\n",
            " [829 0 0 27.0 9.0 68372.54684210526 1.0 1.0]\n",
            " [520 1 0 42.0 6.0 0.0 1.0 1.0]\n",
            " [804 1 1 33.0 7.0 76548.6 0.0 1.0]\n",
            " [619 0 1 43.0 1.0 125211.92 1.0 1.0]\n",
            " [528 0 1 31.0 6.0 102016.72 0.0 0.0]\n",
            " [834 0 0 49.0 2.0 131394.56 0.0 0.0]\n",
            " [722 1 0 29.0 9.0 0.0 1.0 1.0]\n",
            " [699 0 0 39.0 1.0 0.0 0.0 0.0]\n",
            " [577 0 1 25.0 3.0 0.0 0.0 1.0]\n",
            " [465 0 0 51.0 8.0 122522.32 0.0 0.0]\n",
            " [556 0 0 61.0 2.0 68372.54684210526 1.0 1.0]\n",
            " [742 0 1 35.0 5.0 136857.0 0.0 0.0]\n",
            " [614 0 1 51.0 4.0 40685.92 1.0 1.0]]\n"
          ],
          "name": "stdout"
        }
      ]
    },
    {
      "cell_type": "code",
      "metadata": {
        "id": "4SE8ozd4b1Fg",
        "colab": {
          "base_uri": "https://localhost:8080/"
        },
        "outputId": "3a85b968-b1dc-4472-d0cc-b715373dc548"
      },
      "source": [
        "print(y_test)"
      ],
      "execution_count": 29,
      "outputs": [
        {
          "output_type": "stream",
          "text": [
            "[0 0 0 1 0 0 0 0 1 0 0 0 1 0 0 0]\n"
          ],
          "name": "stdout"
        }
      ]
    },
    {
      "cell_type": "code",
      "metadata": {
        "id": "zSCby589b4kz",
        "colab": {
          "base_uri": "https://localhost:8080/"
        },
        "outputId": "f2d57af0-189d-479f-fdb6-08458ba5a8e8"
      },
      "source": [
        "print(y_train)"
      ],
      "execution_count": 30,
      "outputs": [
        {
          "output_type": "stream",
          "text": [
            "[0 0 0 0 0 1 0 0 0 0 0 0 1 0 1 0 0 1 0 0 0 1 0 0 0 0 0 0 0 1 0 0 1 0 1 0 0\n",
            " 0 0 0 0 1 1 0 1 0 1]\n"
          ],
          "name": "stdout"
        }
      ]
    },
    {
      "cell_type": "code",
      "metadata": {
        "id": "Yhovt-qlcsyQ"
      },
      "source": [
        "# Feature Scaling\n",
        "from sklearn.preprocessing import StandardScaler\n",
        "sc = StandardScaler()\n",
        "X_train = sc.fit_transform(X_train)\n",
        "X_test = sc.transform(X_test)"
      ],
      "execution_count": 31,
      "outputs": []
    },
    {
      "cell_type": "code",
      "metadata": {
        "id": "ic851ceFc-bY",
        "colab": {
          "base_uri": "https://localhost:8080/"
        },
        "outputId": "e2f62539-53b3-4b2d-bb9c-737f353cabc4"
      },
      "source": [
        "print(X_train)"
      ],
      "execution_count": 32,
      "outputs": [
        {
          "output_type": "stream",
          "text": [
            "[[-0.28332402 -0.65133895  0.64345949 -0.29935278  0.12312713  1.24571694\n",
            "  -1.37387191 -0.93808315]\n",
            " [-0.59767434  1.53529895 -1.13551675 -1.60202581  1.54408734 -1.12517379\n",
            "   0.76102823  1.06600358]\n",
            " [ 0.45016006 -0.65133895  0.64345949  0.78620808 -0.58735298 -1.12517379\n",
            "  -1.37387191  1.06600358]\n",
            " [ 1.78614893 -0.65133895  0.64345949  1.22043243  0.83360723 -1.12517379\n",
            "   0.76102823  1.06600358]\n",
            " [ 1.99571581 -0.65133895  2.42243573 -0.08224061  0.12312713 -1.12517379\n",
            "   0.76102823  1.06600358]\n",
            " [-1.00807615 -0.65133895 -1.13551675  0.35198374  1.18884728  1.46664953\n",
            "   0.76102823 -0.93808315]\n",
            " [ 0.94788141 -0.65133895 -1.13551675 -1.60202581  0.47836718 -1.12517379\n",
            "   0.76102823  1.06600358]\n",
            " [-0.54528262  1.53529895  0.64345949  0.00496018 -1.29783308 -0.21473361\n",
            "  -1.37387191 -0.93808315]\n",
            " [-1.80268391 -0.65133895  0.64345949 -1.05924538 -1.65307313 -0.01526102\n",
            "   0.76102823  1.06600358]\n",
            " [-0.73738559 -0.65133895  0.64345949 -0.29935278  0.83360723  0.25971751\n",
            "  -1.37387191  1.06600358]\n",
            " [ 2.03064362  1.53529895 -1.13551675  0.46053982 -0.94259303  0.91228231\n",
            "   0.76102823  1.06600358]\n",
            " [-0.56274653 -0.65133895  0.64345949  0.00496018  1.54408734  0.66231725\n",
            "  -1.37387191 -0.93808315]\n",
            " [ 0.0135624  -0.65133895 -1.13551675  0.35198374 -0.94259303 -1.12517379\n",
            "   0.76102823  1.06600358]\n",
            " [ 1.20984001 -0.65133895  0.64345949 -0.29935278 -0.94259303  1.09579696\n",
            "   0.76102823  1.06600358]\n",
            " [ 0.24059318  1.53529895  0.64345949  0.56909591  1.18884728  0.72145909\n",
            "   0.76102823 -0.93808315]\n",
            " [ 0.60733522 -0.65133895 -1.13551675 -1.27635756  1.54408734  1.3476282\n",
            "  -1.37387191 -0.93808315]\n",
            " [ 0.37157248  1.53529895 -1.13551675  2.41454938  0.12312713  1.40610432\n",
            "   0.76102823  1.06600358]\n",
            " [-0.92948857  1.53529895 -1.13551675  2.95732981 -0.23211292 -1.12517379\n",
            "   0.76102823 -0.93808315]\n",
            " [-1.27003475  1.53529895  0.64345949  0.13487157 -0.23211292 -1.12517379\n",
            "   0.76102823 -0.93808315]\n",
            " [ 0.33664467 -0.65133895  0.64345949  0.677652    0.12312713  0.9504887\n",
            "   0.76102823 -0.93808315]\n",
            " [-0.26586011  1.53529895  2.42243573  0.677652    0.47836718 -1.12517379\n",
            "  -1.37387191 -0.93808315]\n",
            " [-0.93822052  1.53529895 -1.13551675 -0.08224061 -0.23211292 -1.12517379\n",
            "   0.76102823 -0.93808315]\n",
            " [ 1.00027313 -0.65133895  0.64345949  0.24342765  1.18884728 -1.12517379\n",
            "   0.76102823  1.06600358]\n",
            " [ 0.70338671 -0.65133895  0.64345949  0.56909591  1.89932739  0.76378891\n",
            "   0.76102823 -0.93808315]\n",
            " [-0.08248909  1.53529895 -1.13551675  0.24342765 -1.29783308  0.23530521\n",
            "  -1.37387191  1.06600358]\n",
            " [-1.05173592  1.53529895  0.64345949 -1.60202581 -0.58735298 -1.12517379\n",
            "   0.76102823 -0.93808315]\n",
            " [-0.59767434 -0.65133895 -1.13551675 -1.49346973  0.12312713 -1.12517379\n",
            "  -1.37387191 -0.93808315]\n",
            " [ 1.48926252 -0.65133895 -1.13551675 -0.62502104  0.12312713 -1.12517379\n",
            "  -1.37387191 -0.93808315]\n",
            " [ 1.38447907 -0.65133895 -1.13551675 -0.19079669 -0.94259303  0.55934416\n",
            "   0.76102823 -0.93808315]\n",
            " [ 0.32791272 -0.65133895  0.64345949  0.24342765  1.18884728  0.91311264\n",
            "  -1.37387191 -0.93808315]\n",
            " [-0.01263346 -0.65133895  0.64345949  0.677652   -0.58735298  1.19829035\n",
            "  -0.04393412  1.06600358]\n",
            " [-1.23510694 -0.65133895 -1.13551675 -0.51646495  0.01999292 -1.12517379\n",
            "   0.76102823 -0.93808315]\n",
            " [-2.10830227 -0.65133895 -1.13551675 -1.05924538 -0.23211292  0.74241565\n",
            "   0.76102823 -0.93808315]\n",
            " [ 0.93914945 -0.65133895  0.64345949 -2.14480624 -1.65307313 -0.01526102\n",
            "  -1.37387191 -0.93808315]\n",
            " [-0.2309323   1.53529895 -1.13551675  0.02631548 -0.58735298 -1.12517379\n",
            "   0.76102823 -0.93808315]\n",
            " [-0.58894239 -0.65133895  0.64345949 -0.08224061 -0.94259303 -0.01526102\n",
            "  -1.37387191  1.06600358]\n",
            " [-0.40557137 -0.65133895  0.64345949  0.56909591  1.54408734 -1.12517379\n",
            "  -1.37387191 -0.93808315]\n",
            " [-0.30951988 -0.65133895  0.64345949  0.24342765  0.47836718  0.01683115\n",
            "  -1.37387191  1.06600358]\n",
            " [-1.11285959  1.53529895  0.64345949 -0.84213321 -0.58735298  1.23288061\n",
            "  -1.37387191  1.06600358]\n",
            " [-1.0168081  -0.65133895  0.64345949  0.56909591 -0.23211292  1.18078532\n",
            "  -0.04393412  1.06600358]\n",
            " [ 0.58113936 -0.65133895  0.64345949 -1.27635756 -0.94259303  1.05989277\n",
            "   0.76102823  1.06600358]\n",
            " [ 0.31044881 -0.65133895  0.64345949  2.08888112 -1.29783308  1.02740992\n",
            "   0.76102823 -0.93808315]\n",
            " [-0.14361277 -0.65133895  0.64345949  0.35198374 -1.29783308  0.4737378\n",
            "   0.76102823 -0.93808315]\n",
            " [ 2.03064362 -0.65133895  0.64345949 -0.29935278  0.83360723 -1.12517379\n",
            "   0.76102823  1.06600358]\n",
            " [ 0.17073756 -0.65133895 -1.13551675  0.02631548  1.54408734  1.1124874\n",
            "   0.76102823  1.06600358]\n",
            " [ 0.15327365  1.53529895 -1.13551675 -0.40790887  0.83360723 -1.12517379\n",
            "   0.76102823  1.06600358]\n",
            " [-1.24383889 -0.65133895 -1.13551675  0.677652   -1.65307313  1.05437604\n",
            "   0.76102823 -0.93808315]]\n"
          ],
          "name": "stdout"
        }
      ]
    },
    {
      "cell_type": "code",
      "metadata": {
        "id": "KpGHbeiY89_a",
        "colab": {
          "base_uri": "https://localhost:8080/"
        },
        "outputId": "0688ca07-94a9-4cc3-b5ae-6c7d9bea9757"
      },
      "source": [
        "print(X_test)"
      ],
      "execution_count": 33,
      "outputs": [
        {
          "output_type": "stream",
          "text": [
            "[[-0.37937551 -0.65133895 -1.13551675  0.46053982 -0.58735298 -0.01526102\n",
            "   0.76102823  1.06600358]\n",
            " [ 0.1620056   1.53529895 -1.13551675 -0.73357712  1.18884728 -1.12517379\n",
            "   0.76102823 -0.93808315]\n",
            " [ 1.38447907 -0.65133895 -1.13551675 -0.73357712 -0.23211292  0.65109337\n",
            "   0.76102823  1.06600358]\n",
            " [ 1.8472726  -0.65133895 -1.13551675 -1.27635756  1.54408734 -0.01526102\n",
            "   0.76102823  1.06600358]\n",
            " [-0.85090099  1.53529895 -1.13551675  0.35198374  0.47836718 -1.12517379\n",
            "   0.76102823  1.06600358]\n",
            " [ 1.62897377  1.53529895  0.64345949 -0.62502104  0.83360723  0.11746339\n",
            "  -1.37387191  1.06600358]\n",
            " [ 0.0135624  -0.65133895  0.64345949  0.46053982 -1.29783308  0.90743017\n",
            "   0.76102823  1.06600358]\n",
            " [-0.78104536 -0.65133895  0.64345949 -0.84213321  0.47836718  0.53089529\n",
            "  -1.37387191 -0.93808315]\n",
            " [ 1.89093237 -0.65133895 -1.13551675  1.11187634 -0.94259303  1.00779488\n",
            "  -1.37387191 -0.93808315]\n",
            " [ 0.91295359  1.53529895 -1.13551675 -1.05924538  1.54408734 -1.12517379\n",
            "   0.76102823  1.06600358]\n",
            " [ 0.71211867 -0.65133895 -1.13551675  0.02631548 -1.29783308 -1.12517379\n",
            "  -1.37387191 -0.93808315]\n",
            " [-0.35317965 -0.65133895  0.64345949 -1.49346973 -0.58735298 -1.12517379\n",
            "  -1.37387191  1.06600358]\n",
            " [-1.33115842 -0.65133895 -1.13551675  1.32898851  1.18884728  0.86376906\n",
            "  -1.37387191 -0.93808315]\n",
            " [-0.53655067 -0.65133895 -1.13551675  2.41454938 -0.94259303 -0.01526102\n",
            "   0.76102823  1.06600358]\n",
            " [ 1.08759266 -0.65133895  0.64345949 -0.40790887  0.12312713  1.09646837\n",
            "  -1.37387191 -0.93808315]\n",
            " [-0.03009737 -0.65133895  0.64345949  1.32898851 -0.23211292 -0.46470662\n",
            "   0.76102823  1.06600358]]\n"
          ],
          "name": "stdout"
        }
      ]
    },
    {
      "cell_type": "code",
      "metadata": {
        "id": "aF6idxZb9EtE",
        "cellView": "code",
        "colab": {
          "base_uri": "https://localhost:8080/"
        },
        "outputId": "d088bcb6-0536-45fe-96ac-0662ddb77aea"
      },
      "source": [
        "\n",
        "# Fitting Decision Tree Classification to the Training set\n",
        "from sklearn.linear_model import LogisticRegression\n",
        "classifier = LogisticRegression()\n",
        "classifier.fit(X_train, y_train)\n"
      ],
      "execution_count": 53,
      "outputs": [
        {
          "output_type": "execute_result",
          "data": {
            "text/plain": [
              "LogisticRegression(C=1.0, class_weight=None, dual=False, fit_intercept=True,\n",
              "                   intercept_scaling=1, l1_ratio=None, max_iter=100,\n",
              "                   multi_class='auto', n_jobs=None, penalty='l2',\n",
              "                   random_state=None, solver='lbfgs', tol=0.0001, verbose=0,\n",
              "                   warm_start=False)"
            ]
          },
          "metadata": {
            "tags": []
          },
          "execution_count": 53
        }
      ]
    },
    {
      "cell_type": "code",
      "metadata": {
        "id": "Ax2tc-DC9ePa",
        "colab": {
          "base_uri": "https://localhost:8080/"
        },
        "outputId": "8529c839-7f80-41e9-baac-de95ec4bb421"
      },
      "source": [
        "# Predicting the Test set results\n",
        "y_pred = classifier.predict(X_test)\n",
        "y_pred"
      ],
      "execution_count": 54,
      "outputs": [
        {
          "output_type": "execute_result",
          "data": {
            "text/plain": [
              "array([0, 0, 0, 0, 0, 0, 0, 0, 0, 0, 0, 0, 1, 1, 0, 0])"
            ]
          },
          "metadata": {
            "tags": []
          },
          "execution_count": 54
        }
      ]
    },
    {
      "cell_type": "code",
      "metadata": {
        "id": "fapkzgOR9oFV",
        "colab": {
          "base_uri": "https://localhost:8080/"
        },
        "outputId": "5ee63a6d-02a4-4016-f176-3a2bde9071c7"
      },
      "source": [
        "# Making the Confusion Matrix\n",
        "from sklearn.metrics import confusion_matrix\n",
        "cm = confusion_matrix(y_test, y_pred)\n",
        "print('Confusion matrix: ')\n",
        "print(cm)"
      ],
      "execution_count": 55,
      "outputs": [
        {
          "output_type": "stream",
          "text": [
            "Confusion matrix: \n",
            "[[12  1]\n",
            " [ 2  1]]\n"
          ],
          "name": "stdout"
        }
      ]
    },
    {
      "cell_type": "code",
      "metadata": {
        "id": "THlm7D1z-Jux",
        "colab": {
          "base_uri": "https://localhost:8080/"
        },
        "outputId": "61588761-03d0-4faa-f60a-40d3b9650fdd"
      },
      "source": [
        "# calculate Accuracy\n",
        "#   0   1\n",
        "# 0[59  7(FP type 1)]\n",
        "#1 [ 11(FN Type 2) 23]= 82/100\n",
        "\n",
        "from sklearn.metrics import accuracy_score\n",
        "print('Accuracy: %.2f' % (accuracy_score(y_test, y_pred)*100))"
      ],
      "execution_count": 56,
      "outputs": [
        {
          "output_type": "stream",
          "text": [
            "Accuracy: 81.25\n"
          ],
          "name": "stdout"
        }
      ]
    },
    {
      "cell_type": "code",
      "metadata": {
        "id": "nquS3pa4-lOH",
        "colab": {
          "base_uri": "https://localhost:8080/"
        },
        "outputId": "eb086b10-9583-4c44-fb19-dee040f45224"
      },
      "source": [
        "from sklearn.metrics import precision_score\n",
        "from sklearn.metrics import recall_score\n",
        "from sklearn.metrics import f1_score\n",
        "# calculate precision\n",
        "# Precision = TruePositives / (TruePositives + FalsePositives) \n",
        "# calculate Accuracy\n",
        "#   0   1\n",
        "# 0[59  7(FP type 1)]\n",
        "#1 [ 11(FN Type 2) 23]= 23/30\n",
        "precision = precision_score(y_test, y_pred, average='binary')\n",
        "print('Precision: %.2f' % (precision))"
      ],
      "execution_count": 38,
      "outputs": [
        {
          "output_type": "stream",
          "text": [
            "Precision: 0.00\n"
          ],
          "name": "stdout"
        }
      ]
    },
    {
      "cell_type": "code",
      "metadata": {
        "id": "1EcT47xu-sNJ",
        "colab": {
          "base_uri": "https://localhost:8080/"
        },
        "outputId": "79df784e-b50c-427e-ce06-35bf5dd6915b"
      },
      "source": [
        "# calculate recall\n",
        "# Recall = TruePositives / (TruePositives + FalseNegatives)\n",
        "# calculate Accuracy\n",
        "#   0   1\n",
        "# 0[59  7(FP type 1)]\n",
        "#1 [ 11(FN Type 2) 23]= 23/23+11\n",
        "recall = recall_score(y_test, y_pred, average='macro')\n",
        "print('Recall: %.3f' % (recall))"
      ],
      "execution_count": 39,
      "outputs": [
        {
          "output_type": "stream",
          "text": [
            "Recall: 0.308\n"
          ],
          "name": "stdout"
        }
      ]
    },
    {
      "cell_type": "code",
      "metadata": {
        "id": "82QxZrqD_At8",
        "colab": {
          "base_uri": "https://localhost:8080/"
        },
        "outputId": "833ffba9-e310-4bbe-e1ad-ebc59f28d341"
      },
      "source": [
        "# F-Measure = (2 * Precision * Recall) / (Precision + Recall)\n",
        "# (2*0.829*0.906)/0.829+0.906\n",
        "# calculate score\n",
        "score = f1_score(y_test, y_pred, average='macro')\n",
        "print('F-Measure: %.3f' % (score*100))"
      ],
      "execution_count": 40,
      "outputs": [
        {
          "output_type": "stream",
          "text": [
            "F-Measure: 33.333\n"
          ],
          "name": "stdout"
        }
      ]
    },
    {
      "cell_type": "code",
      "metadata": {
        "id": "agxk38jeXoFY",
        "colab": {
          "base_uri": "https://localhost:8080/"
        },
        "outputId": "b06d5194-af3a-47ee-bdbf-5b4688f1dbb6"
      },
      "source": [
        "import pickle \n",
        "print(\"[INFO] Saving model...\")\n",
        "# Save the trained model as a pickle string. \n",
        "saved_model=pickle.dump(classifier,open('/content/drive/My Drive/manisha_model.pkl', 'wb')) \n",
        "# Saving model to disk\n",
        " \n",
        "\n",
        "  \n"
      ],
      "execution_count": 57,
      "outputs": [
        {
          "output_type": "stream",
          "text": [
            "[INFO] Saving model...\n"
          ],
          "name": "stdout"
        }
      ]
    },
    {
      "cell_type": "code",
      "metadata": {
        "colab": {
          "base_uri": "https://localhost:8080/"
        },
        "id": "JwcMJ8eSU15u",
        "outputId": "7e83e233-d623-438f-81a2-ce7cc7833cb8"
      },
      "source": [
        "# Load the pickled model \n",
        "model = pickle.load(open('/content/drive/My Drive/manisha_model.pkl','rb'))  \n",
        "# Use the loaded pickled model to make predictions \n",
        "model.predict(X_test) "
      ],
      "execution_count": 58,
      "outputs": [
        {
          "output_type": "execute_result",
          "data": {
            "text/plain": [
              "array([0, 0, 0, 0, 0, 0, 0, 0, 0, 0, 0, 0, 1, 1, 0, 0])"
            ]
          },
          "metadata": {
            "tags": []
          },
          "execution_count": 58
        }
      ]
    },
    {
      "cell_type": "code",
      "metadata": {
        "id": "J0FXELsKZFIJ",
        "colab": {
          "base_uri": "https://localhost:8080/"
        },
        "outputId": "61727471-4bfa-4834-aa02-48a17be53ef3"
      },
      "source": [
        "# save the model to disk\n",
        "import joblib\n",
        "filename = '/content/drive/My Drive/manisha_model.sav'\n",
        "joblib.dump(classifier, filename)\n",
        " \n",
        "# some time later...\n",
        " \n",
        "# load the model from disk\n",
        "loaded_model = joblib.load(filename)\n",
        "result = loaded_model.score(X_test, y_test)\n",
        "print(result)"
      ],
      "execution_count": 59,
      "outputs": [
        {
          "output_type": "stream",
          "text": [
            "0.8125\n"
          ],
          "name": "stdout"
        }
      ]
    },
    {
      "cell_type": "code",
      "metadata": {
        "colab": {
          "base_uri": "https://localhost:8080/"
        },
        "id": "ZlUWUvWouQhy",
        "outputId": "36186c82-bbbf-47a3-b241-eacae84d1ebb"
      },
      "source": [
        "!pip install streamlit"
      ],
      "execution_count": 60,
      "outputs": [
        {
          "output_type": "stream",
          "text": [
            "Requirement already satisfied: streamlit in /usr/local/lib/python3.7/dist-packages (0.84.1)\n",
            "Requirement already satisfied: base58 in /usr/local/lib/python3.7/dist-packages (from streamlit) (2.1.0)\n",
            "Requirement already satisfied: protobuf!=3.11,>=3.6.0 in /usr/local/lib/python3.7/dist-packages (from streamlit) (3.17.3)\n",
            "Requirement already satisfied: cachetools>=4.0 in /usr/local/lib/python3.7/dist-packages (from streamlit) (4.2.2)\n",
            "Requirement already satisfied: altair>=3.2.0 in /usr/local/lib/python3.7/dist-packages (from streamlit) (4.1.0)\n",
            "Requirement already satisfied: watchdog; platform_system != \"Darwin\" in /usr/local/lib/python3.7/dist-packages (from streamlit) (2.1.3)\n",
            "Requirement already satisfied: pyarrow; python_version < \"3.9\" in /usr/local/lib/python3.7/dist-packages (from streamlit) (3.0.0)\n",
            "Requirement already satisfied: astor in /usr/local/lib/python3.7/dist-packages (from streamlit) (0.8.1)\n",
            "Requirement already satisfied: python-dateutil in /usr/local/lib/python3.7/dist-packages (from streamlit) (2.8.1)\n",
            "Requirement already satisfied: blinker in /usr/local/lib/python3.7/dist-packages (from streamlit) (1.4)\n",
            "Requirement already satisfied: pandas>=0.21.0 in /usr/local/lib/python3.7/dist-packages (from streamlit) (1.1.5)\n",
            "Requirement already satisfied: validators in /usr/local/lib/python3.7/dist-packages (from streamlit) (0.18.2)\n",
            "Requirement already satisfied: click<8.0,>=7.0 in /usr/local/lib/python3.7/dist-packages (from streamlit) (7.1.2)\n",
            "Requirement already satisfied: packaging in /usr/local/lib/python3.7/dist-packages (from streamlit) (21.0)\n",
            "Requirement already satisfied: tornado>=5.0 in /usr/local/lib/python3.7/dist-packages (from streamlit) (5.1.1)\n",
            "Requirement already satisfied: pillow>=6.2.0 in /usr/local/lib/python3.7/dist-packages (from streamlit) (7.1.2)\n",
            "Requirement already satisfied: requests in /usr/local/lib/python3.7/dist-packages (from streamlit) (2.23.0)\n",
            "Requirement already satisfied: pydeck>=0.1.dev5 in /usr/local/lib/python3.7/dist-packages (from streamlit) (0.6.2)\n",
            "Requirement already satisfied: attrs in /usr/local/lib/python3.7/dist-packages (from streamlit) (21.2.0)\n",
            "Requirement already satisfied: tzlocal in /usr/local/lib/python3.7/dist-packages (from streamlit) (1.5.1)\n",
            "Requirement already satisfied: toml in /usr/local/lib/python3.7/dist-packages (from streamlit) (0.10.2)\n",
            "Requirement already satisfied: numpy in /usr/local/lib/python3.7/dist-packages (from streamlit) (1.19.5)\n",
            "Requirement already satisfied: gitpython in /usr/local/lib/python3.7/dist-packages (from streamlit) (3.1.18)\n",
            "Requirement already satisfied: six>=1.9 in /usr/local/lib/python3.7/dist-packages (from protobuf!=3.11,>=3.6.0->streamlit) (1.15.0)\n",
            "Requirement already satisfied: entrypoints in /usr/local/lib/python3.7/dist-packages (from altair>=3.2.0->streamlit) (0.3)\n",
            "Requirement already satisfied: jinja2 in /usr/local/lib/python3.7/dist-packages (from altair>=3.2.0->streamlit) (2.11.3)\n",
            "Requirement already satisfied: toolz in /usr/local/lib/python3.7/dist-packages (from altair>=3.2.0->streamlit) (0.11.1)\n",
            "Requirement already satisfied: jsonschema in /usr/local/lib/python3.7/dist-packages (from altair>=3.2.0->streamlit) (2.6.0)\n",
            "Requirement already satisfied: pytz>=2017.2 in /usr/local/lib/python3.7/dist-packages (from pandas>=0.21.0->streamlit) (2018.9)\n",
            "Requirement already satisfied: decorator>=3.4.0 in /usr/local/lib/python3.7/dist-packages (from validators->streamlit) (4.4.2)\n",
            "Requirement already satisfied: pyparsing>=2.0.2 in /usr/local/lib/python3.7/dist-packages (from packaging->streamlit) (2.4.7)\n",
            "Requirement already satisfied: certifi>=2017.4.17 in /usr/local/lib/python3.7/dist-packages (from requests->streamlit) (2021.5.30)\n",
            "Requirement already satisfied: chardet<4,>=3.0.2 in /usr/local/lib/python3.7/dist-packages (from requests->streamlit) (3.0.4)\n",
            "Requirement already satisfied: idna<3,>=2.5 in /usr/local/lib/python3.7/dist-packages (from requests->streamlit) (2.10)\n",
            "Requirement already satisfied: urllib3!=1.25.0,!=1.25.1,<1.26,>=1.21.1 in /usr/local/lib/python3.7/dist-packages (from requests->streamlit) (1.24.3)\n",
            "Requirement already satisfied: ipykernel>=5.1.2; python_version >= \"3.4\" in /usr/local/lib/python3.7/dist-packages (from pydeck>=0.1.dev5->streamlit) (6.0.2)\n",
            "Requirement already satisfied: traitlets>=4.3.2 in /usr/local/lib/python3.7/dist-packages (from pydeck>=0.1.dev5->streamlit) (5.0.5)\n",
            "Requirement already satisfied: ipywidgets>=7.0.0 in /usr/local/lib/python3.7/dist-packages (from pydeck>=0.1.dev5->streamlit) (7.6.3)\n",
            "Requirement already satisfied: typing-extensions>=3.7.4.0; python_version < \"3.8\" in /usr/local/lib/python3.7/dist-packages (from gitpython->streamlit) (3.7.4.3)\n",
            "Requirement already satisfied: gitdb<5,>=4.0.1 in /usr/local/lib/python3.7/dist-packages (from gitpython->streamlit) (4.0.7)\n",
            "Requirement already satisfied: MarkupSafe>=0.23 in /usr/local/lib/python3.7/dist-packages (from jinja2->altair>=3.2.0->streamlit) (2.0.1)\n",
            "Requirement already satisfied: matplotlib-inline<0.2.0,>=0.1.0 in /usr/local/lib/python3.7/dist-packages (from ipykernel>=5.1.2; python_version >= \"3.4\"->pydeck>=0.1.dev5->streamlit) (0.1.2)\n",
            "Requirement already satisfied: debugpy<2.0,>=1.0.0 in /usr/local/lib/python3.7/dist-packages (from ipykernel>=5.1.2; python_version >= \"3.4\"->pydeck>=0.1.dev5->streamlit) (1.0.0)\n",
            "Requirement already satisfied: jupyter-client<7.0 in /usr/local/lib/python3.7/dist-packages (from ipykernel>=5.1.2; python_version >= \"3.4\"->pydeck>=0.1.dev5->streamlit) (5.3.5)\n",
            "Requirement already satisfied: ipython<8.0,>=7.23.1 in /usr/local/lib/python3.7/dist-packages (from ipykernel>=5.1.2; python_version >= \"3.4\"->pydeck>=0.1.dev5->streamlit) (7.25.0)\n",
            "Requirement already satisfied: importlib-metadata<4; python_version < \"3.8.0\" in /usr/local/lib/python3.7/dist-packages (from ipykernel>=5.1.2; python_version >= \"3.4\"->pydeck>=0.1.dev5->streamlit) (3.10.1)\n",
            "Requirement already satisfied: ipython-genutils in /usr/local/lib/python3.7/dist-packages (from traitlets>=4.3.2->pydeck>=0.1.dev5->streamlit) (0.2.0)\n",
            "Requirement already satisfied: widgetsnbextension~=3.5.0 in /usr/local/lib/python3.7/dist-packages (from ipywidgets>=7.0.0->pydeck>=0.1.dev5->streamlit) (3.5.1)\n",
            "Requirement already satisfied: nbformat>=4.2.0 in /usr/local/lib/python3.7/dist-packages (from ipywidgets>=7.0.0->pydeck>=0.1.dev5->streamlit) (5.1.3)\n",
            "Requirement already satisfied: jupyterlab-widgets>=1.0.0; python_version >= \"3.6\" in /usr/local/lib/python3.7/dist-packages (from ipywidgets>=7.0.0->pydeck>=0.1.dev5->streamlit) (1.0.0)\n",
            "Requirement already satisfied: smmap<5,>=3.0.1 in /usr/local/lib/python3.7/dist-packages (from gitdb<5,>=4.0.1->gitpython->streamlit) (4.0.0)\n",
            "Requirement already satisfied: jupyter-core>=4.6.0 in /usr/local/lib/python3.7/dist-packages (from jupyter-client<7.0->ipykernel>=5.1.2; python_version >= \"3.4\"->pydeck>=0.1.dev5->streamlit) (4.7.1)\n",
            "Requirement already satisfied: pyzmq>=13 in /usr/local/lib/python3.7/dist-packages (from jupyter-client<7.0->ipykernel>=5.1.2; python_version >= \"3.4\"->pydeck>=0.1.dev5->streamlit) (22.1.0)\n",
            "Requirement already satisfied: setuptools>=18.5 in /usr/local/lib/python3.7/dist-packages (from ipython<8.0,>=7.23.1->ipykernel>=5.1.2; python_version >= \"3.4\"->pydeck>=0.1.dev5->streamlit) (57.2.0)\n",
            "Requirement already satisfied: backcall in /usr/local/lib/python3.7/dist-packages (from ipython<8.0,>=7.23.1->ipykernel>=5.1.2; python_version >= \"3.4\"->pydeck>=0.1.dev5->streamlit) (0.2.0)\n",
            "Requirement already satisfied: jedi>=0.16 in /usr/local/lib/python3.7/dist-packages (from ipython<8.0,>=7.23.1->ipykernel>=5.1.2; python_version >= \"3.4\"->pydeck>=0.1.dev5->streamlit) (0.18.0)\n",
            "Requirement already satisfied: pexpect>4.3; sys_platform != \"win32\" in /usr/local/lib/python3.7/dist-packages (from ipython<8.0,>=7.23.1->ipykernel>=5.1.2; python_version >= \"3.4\"->pydeck>=0.1.dev5->streamlit) (4.8.0)\n",
            "Requirement already satisfied: pickleshare in /usr/local/lib/python3.7/dist-packages (from ipython<8.0,>=7.23.1->ipykernel>=5.1.2; python_version >= \"3.4\"->pydeck>=0.1.dev5->streamlit) (0.7.5)\n",
            "Requirement already satisfied: prompt-toolkit!=3.0.0,!=3.0.1,<3.1.0,>=2.0.0 in /usr/local/lib/python3.7/dist-packages (from ipython<8.0,>=7.23.1->ipykernel>=5.1.2; python_version >= \"3.4\"->pydeck>=0.1.dev5->streamlit) (3.0.19)\n",
            "Requirement already satisfied: pygments in /usr/local/lib/python3.7/dist-packages (from ipython<8.0,>=7.23.1->ipykernel>=5.1.2; python_version >= \"3.4\"->pydeck>=0.1.dev5->streamlit) (2.6.1)\n",
            "Requirement already satisfied: zipp>=0.5 in /usr/local/lib/python3.7/dist-packages (from importlib-metadata<4; python_version < \"3.8.0\"->ipykernel>=5.1.2; python_version >= \"3.4\"->pydeck>=0.1.dev5->streamlit) (3.5.0)\n",
            "Requirement already satisfied: notebook>=4.4.1 in /usr/local/lib/python3.7/dist-packages (from widgetsnbextension~=3.5.0->ipywidgets>=7.0.0->pydeck>=0.1.dev5->streamlit) (5.3.1)\n",
            "Requirement already satisfied: parso<0.9.0,>=0.8.0 in /usr/local/lib/python3.7/dist-packages (from jedi>=0.16->ipython<8.0,>=7.23.1->ipykernel>=5.1.2; python_version >= \"3.4\"->pydeck>=0.1.dev5->streamlit) (0.8.2)\n",
            "Requirement already satisfied: ptyprocess>=0.5 in /usr/local/lib/python3.7/dist-packages (from pexpect>4.3; sys_platform != \"win32\"->ipython<8.0,>=7.23.1->ipykernel>=5.1.2; python_version >= \"3.4\"->pydeck>=0.1.dev5->streamlit) (0.7.0)\n",
            "Requirement already satisfied: wcwidth in /usr/local/lib/python3.7/dist-packages (from prompt-toolkit!=3.0.0,!=3.0.1,<3.1.0,>=2.0.0->ipython<8.0,>=7.23.1->ipykernel>=5.1.2; python_version >= \"3.4\"->pydeck>=0.1.dev5->streamlit) (0.2.5)\n",
            "Requirement already satisfied: Send2Trash in /usr/local/lib/python3.7/dist-packages (from notebook>=4.4.1->widgetsnbextension~=3.5.0->ipywidgets>=7.0.0->pydeck>=0.1.dev5->streamlit) (1.7.1)\n",
            "Requirement already satisfied: terminado>=0.8.1 in /usr/local/lib/python3.7/dist-packages (from notebook>=4.4.1->widgetsnbextension~=3.5.0->ipywidgets>=7.0.0->pydeck>=0.1.dev5->streamlit) (0.10.1)\n",
            "Requirement already satisfied: nbconvert in /usr/local/lib/python3.7/dist-packages (from notebook>=4.4.1->widgetsnbextension~=3.5.0->ipywidgets>=7.0.0->pydeck>=0.1.dev5->streamlit) (5.6.1)\n",
            "Requirement already satisfied: mistune<2,>=0.8.1 in /usr/local/lib/python3.7/dist-packages (from nbconvert->notebook>=4.4.1->widgetsnbextension~=3.5.0->ipywidgets>=7.0.0->pydeck>=0.1.dev5->streamlit) (0.8.4)\n",
            "Requirement already satisfied: bleach in /usr/local/lib/python3.7/dist-packages (from nbconvert->notebook>=4.4.1->widgetsnbextension~=3.5.0->ipywidgets>=7.0.0->pydeck>=0.1.dev5->streamlit) (3.3.0)\n",
            "Requirement already satisfied: pandocfilters>=1.4.1 in /usr/local/lib/python3.7/dist-packages (from nbconvert->notebook>=4.4.1->widgetsnbextension~=3.5.0->ipywidgets>=7.0.0->pydeck>=0.1.dev5->streamlit) (1.4.3)\n",
            "Requirement already satisfied: defusedxml in /usr/local/lib/python3.7/dist-packages (from nbconvert->notebook>=4.4.1->widgetsnbextension~=3.5.0->ipywidgets>=7.0.0->pydeck>=0.1.dev5->streamlit) (0.7.1)\n",
            "Requirement already satisfied: testpath in /usr/local/lib/python3.7/dist-packages (from nbconvert->notebook>=4.4.1->widgetsnbextension~=3.5.0->ipywidgets>=7.0.0->pydeck>=0.1.dev5->streamlit) (0.5.0)\n",
            "Requirement already satisfied: webencodings in /usr/local/lib/python3.7/dist-packages (from bleach->nbconvert->notebook>=4.4.1->widgetsnbextension~=3.5.0->ipywidgets>=7.0.0->pydeck>=0.1.dev5->streamlit) (0.5.1)\n"
          ],
          "name": "stdout"
        }
      ]
    },
    {
      "cell_type": "code",
      "metadata": {
        "colab": {
          "base_uri": "https://localhost:8080/"
        },
        "id": "h20pxVIBhh25",
        "outputId": "eeb2f5d6-84fa-480c-932c-37edfdf41b26"
      },
      "source": [
        "# Mounting Google Drive\n",
        "from google.colab import drive\n",
        "drive.mount('/content/drive')"
      ],
      "execution_count": 61,
      "outputs": [
        {
          "output_type": "stream",
          "text": [
            "Drive already mounted at /content/drive; to attempt to forcibly remount, call drive.mount(\"/content/drive\", force_remount=True).\n"
          ],
          "name": "stdout"
        }
      ]
    },
    {
      "cell_type": "code",
      "metadata": {
        "id": "Cx5cfxDcUmTC"
      },
      "source": [
        "# Load the pickled model\n",
        "import pickle\n",
        "pickle_in = open(\"/content/drive/My Drive/manisha_model.pkl\",\"rb\")\n",
        "model=pickle.load(pickle_in)"
      ],
      "execution_count": 62,
      "outputs": []
    },
    {
      "cell_type": "code",
      "metadata": {
        "colab": {
          "base_uri": "https://localhost:8080/"
        },
        "id": "ytfuc0AfwnqM",
        "outputId": "d255ad95-0daa-4c63-ad38-2349f0b20bcd"
      },
      "source": [
        "%%writefile app.py\n",
        "import streamlit as st \n",
        "from PIL import Image\n",
        "import pickle\n",
        "import numpy as np\n",
        "import matplotlib.pyplot as plt\n",
        "import pandas as pd\n",
        "st.set_option('deprecation.showfileUploaderEncoding', False)\n",
        "# Load the pickled model\n",
        "pickle_in = open(\"/content/drive/My Drive/manisha_model.pkl\",\"rb\")\n",
        "model=pickle.load(pickle_in)\n",
        "dataset= pd.read_csv('/content/drive/My Drive/1.csv')\n",
        "X = dataset.iloc[:,1:9].values\n",
        "\n",
        "# Taking care of missing data\n",
        "#handling missing data (Replacing missing data with the mean value)  \n",
        "from sklearn.impute import SimpleImputer\n",
        "imputer = SimpleImputer(missing_values= np.NaN, strategy= 'mean', fill_value=None, verbose=1, copy=True)\n",
        "#Fitting imputer object to the independent variables x.   \n",
        "imputer = imputer.fit(X[:,3:9]) \n",
        "#Replacing missing data with the calculated mean value  \n",
        "X[:,3:9]= imputer.transform(X[:,3:9])  \n",
        "\n",
        "# Taking care of missing data\n",
        "#handling missing data (Replacing missing data with the mean value)  \n",
        "from sklearn.impute import SimpleImputer\n",
        "imputer = SimpleImputer(missing_values= np.NaN, strategy= 'constant', fill_value='female', verbose=1, copy=True)\n",
        "#Fitting imputer object to the independent variables x.   \n",
        "imputer = imputer.fit(X[:, 2:3]) \n",
        "#Replacing missing data with the constant value  \n",
        "X[:, 2:3]= imputer.transform(X[:,2:3])  \n",
        "\n",
        "# Encoding Categorical data:\n",
        "# Encoding the Independent Variable\n",
        "from sklearn.preprocessing import LabelEncoder\n",
        "labelencoder_X = LabelEncoder()\n",
        "X[:, 1] = labelencoder_X.fit_transform(X[:, 1])\n",
        "\n",
        "# Encoding Categorical data:\n",
        "# Encoding the Independent Variable\n",
        "from sklearn.preprocessing import LabelEncoder\n",
        "labelencoder_X = LabelEncoder()\n",
        "X[:, 2] = labelencoder_X.fit_transform(X[:, 2])\n",
        "\n",
        "from sklearn.preprocessing import StandardScaler\n",
        "sc = StandardScaler()\n",
        "X = sc.fit_transform(X)\n",
        "\n",
        "def predict_note_authentication(CreditScore,Geography,Gender,Age,Tenure,Balance,HasCrCard,IsActiveMember,EstimatedSalary):\n",
        "  output= model.predict(sc.transform([[CreditScore,Geography,Gender,Age,Tenure,Balance,HasCrCard,IsActiveMember,EstimatedSalary]]))\n",
        "  print(\"Customer will leave =\", output)\n",
        "  if output==[1]:\n",
        "    prediction=\"Customer will Leave\"\n",
        "  else:\n",
        "    prediction=\"Customer will not Leave\"\n",
        "  print(prediction)\n",
        "  return prediction\n",
        "def main():\n",
        "    \n",
        "    html_temp = \"\"\"\n",
        "   <div class=\"\" style=\"background-color:blue;\" >\n",
        "   <div class=\"clearfix\">           \n",
        "   <div class=\"col-md-12\">\n",
        "   <center><p style=\"font-size:40px;color:white;margin-top:10px;\">Poornima Institute of Engineering & Technology</p></center> \n",
        "   <center><p style=\"font-size:30px;color:white;margin-top:10px;\">Department of Computer Engineering</p></center> \n",
        "   <center><p style=\"font-size:25px;color:white;margin-top:10px;\">Machine Learning Endterm Practical Exam</p></center> \n",
        "   </div>\n",
        "   </div>\n",
        "   </div>\n",
        "   \"\"\"\n",
        "    st.markdown(html_temp,unsafe_allow_html=True)\n",
        "    st.header(\"Customer Prediction\")\n",
        "    Age = st.number_input('Insert a Age',18,60)\n",
        "    CreditScore= st.number_input('Insert a CreditScore',400,1000)\n",
        "    HasCrCard = st.number_input('Insert a HasCrCard 0 For No 1 For Yes',0,1)\n",
        "    Tenure = st.number_input('Insert a Tenure',0,20)\n",
        "    Balance = st.number_input('Insert a Balance',0)\n",
        "    Gender = st.number_input('Insert 0 For Male 1 For Female ',0,1)\n",
        "    Geography= st.number_input('Insert Geography 0 For France 1 For Spain'0,1)\n",
        "    IsActiveMember= st.number_input('Insert a IsActiveMember 0 For No 1 For Yes',0,1)\n",
        "    EstimatedSalary= st.number_input('Insert a EstimatedSalary',0)\n",
        "    \n",
        "    \n",
        "    resul=\"\"\n",
        "    if st.button(\"Predict\"):\n",
        "      result=predict_note_authentication(CreditScore,Geography,Gender,Age,Tenure,Balance,HasCrCard,IsActiveMember,EstimatedSalary)\n",
        "      st.success('Model has predicted {}'.format(result))\n",
        "    if st.button(\"About\"):\n",
        "      st.subheader(\"Developed by Manisha Kumawat\")\n",
        "      st.subheader(\"B-Section,PIET\")\n",
        "\n",
        "if __name__=='__main__':\n",
        "  main()\n",
        "   \n"
      ],
      "execution_count": 63,
      "outputs": [
        {
          "output_type": "stream",
          "text": [
            "Overwriting app.py\n"
          ],
          "name": "stdout"
        }
      ]
    },
    {
      "cell_type": "code",
      "metadata": {
        "colab": {
          "base_uri": "https://localhost:8080/"
        },
        "id": "he5lRMuQ5rxc",
        "outputId": "9e242bcf-9c77-4df2-f11c-dd373359d755"
      },
      "source": [
        "!nohup streamlit run  app.py &"
      ],
      "execution_count": 64,
      "outputs": [
        {
          "output_type": "stream",
          "text": [
            "nohup: appending output to 'nohup.out'\n"
          ],
          "name": "stdout"
        }
      ]
    },
    {
      "cell_type": "code",
      "metadata": {
        "colab": {
          "base_uri": "https://localhost:8080/"
        },
        "id": "3JPCbU_L9fqt",
        "outputId": "6ba07f3c-a538-4f54-d3d4-9f57455de3ca"
      },
      "source": [
        "!pip install pyngrok\n"
      ],
      "execution_count": 65,
      "outputs": [
        {
          "output_type": "stream",
          "text": [
            "Requirement already satisfied: pyngrok in /usr/local/lib/python3.7/dist-packages (5.0.5)\n",
            "Requirement already satisfied: PyYAML in /usr/local/lib/python3.7/dist-packages (from pyngrok) (3.13)\n"
          ],
          "name": "stdout"
        }
      ]
    },
    {
      "cell_type": "code",
      "metadata": {
        "colab": {
          "base_uri": "https://localhost:8080/"
        },
        "id": "UpM2qoI37RmG",
        "outputId": "b5e3eb18-df8d-45f0-9e38-a2fc9c0c5ae1"
      },
      "source": [
        "!ngrok authtoken 1utHudl6HJskBWASmlDSSYZo42K_665jAW2DbvMGGmbgAgi8Z\n"
      ],
      "execution_count": 72,
      "outputs": [
        {
          "output_type": "stream",
          "text": [
            "Authtoken saved to configuration file: /root/.ngrok2/ngrok.yml\n"
          ],
          "name": "stdout"
        }
      ]
    },
    {
      "cell_type": "code",
      "metadata": {
        "colab": {
          "base_uri": "https://localhost:8080/"
        },
        "id": "BvA7QRtw-LIy",
        "outputId": "16c84f4d-e7a8-415b-cf84-86e6335c0051"
      },
      "source": [
        "from pyngrok import ngrok\n",
        "url=ngrok.connect(port='8050')\n",
        "url\n"
      ],
      "execution_count": 73,
      "outputs": [
        {
          "output_type": "execute_result",
          "data": {
            "text/plain": [
              "<NgrokTunnel: \"http://091e61b673da.ngrok.io\" -> \"http://localhost:80\">"
            ]
          },
          "metadata": {
            "tags": []
          },
          "execution_count": 73
        }
      ]
    },
    {
      "cell_type": "code",
      "metadata": {
        "colab": {
          "base_uri": "https://localhost:8080/"
        },
        "id": "usTdFlp6h6wR",
        "outputId": "b7aff77a-ece6-4c86-f33f-29efe69deacd"
      },
      "source": [
        " !streamlit run --server.port 80 app.py"
      ],
      "execution_count": 68,
      "outputs": [
        {
          "output_type": "stream",
          "text": [
            "\u001b[0m\n",
            "\u001b[34m\u001b[1m  You can now view your Streamlit app in your browser.\u001b[0m\n",
            "\u001b[0m\n",
            "\u001b[34m  Network URL: \u001b[0m\u001b[1mhttp://172.28.0.2:80\u001b[0m\n",
            "\u001b[34m  External URL: \u001b[0m\u001b[1mhttp://34.80.136.129:80\u001b[0m\n",
            "\u001b[0m\n",
            "\u001b[34m  Stopping...\u001b[0m\n"
          ],
          "name": "stdout"
        }
      ]
    },
    {
      "cell_type": "code",
      "metadata": {
        "id": "2u65SHlxAxe8"
      },
      "source": [
        "ngrok.kill()"
      ],
      "execution_count": 69,
      "outputs": []
    },
    {
      "cell_type": "markdown",
      "metadata": {
        "id": "9T3jZTmRh8qh"
      },
      "source": [
        "https://priyanshujainpiet18cs111midter.herokuapp.com"
      ]
    }
  ]
}